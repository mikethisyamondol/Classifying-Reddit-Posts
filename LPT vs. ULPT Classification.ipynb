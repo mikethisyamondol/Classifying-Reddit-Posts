{
 "cells": [
  {
   "cell_type": "markdown",
   "metadata": {},
   "source": [
    "### Import Libraries"
   ]
  },
  {
   "cell_type": "code",
   "execution_count": 1,
   "metadata": {},
   "outputs": [
    {
     "name": "stderr",
     "output_type": "stream",
     "text": [
      "/Users/mikethisyamondol/anaconda3/lib/python3.6/site-packages/sklearn/ensemble/weight_boosting.py:29: DeprecationWarning: numpy.core.umath_tests is an internal NumPy module and should not be imported. It will be removed in a future NumPy release.\n",
      "  from numpy.core.umath_tests import inner1d\n"
     ]
    }
   ],
   "source": [
    "import pandas as pd\n",
    "import matplotlib as plt\n",
    "import numpy as np\n",
    "import requests\n",
    "import json\n",
    "import praw\n",
    "import time\n",
    "import nltk\n",
    "from nltk.stem import WordNetLemmatizer\n",
    "from sklearn.model_selection import train_test_split, cross_val_score, GridSearchCV\n",
    "from sklearn.feature_extraction.text import CountVectorizer, TfidfVectorizer\n",
    "from sklearn.pipeline import Pipeline\n",
    "from sklearn.naive_bayes import MultinomialNB\n",
    "from sklearn.linear_model import LogisticRegression\n",
    "from sklearn.tree import DecisionTreeClassifier, export_graphviz\n",
    "from sklearn.metrics import confusion_matrix\n",
    "from sklearn.ensemble import BaggingClassifier, RandomForestClassifier, ExtraTreesClassifier, AdaBoostClassifier, VotingClassifier\n",
    "\n",
    "%matplotlib inline"
   ]
  },
  {
   "cell_type": "markdown",
   "metadata": {},
   "source": [
    "### Data Collection\n",
    "Let's start off collecting our data. The URL below (shout out to Felippe Rodrigues) goes through step by step how to use the Python Reddit API Wrapper (PRAW) for data collection.\n",
    "\n",
    "http://www.storybench.org/how-to-scrape-reddit-with-python/ \n",
    "\n",
    "PRAW Documentation: https://praw.readthedocs.io/en/latest/getting_started/authentication.html#script-application"
   ]
  },
  {
   "cell_type": "code",
   "execution_count": 2,
   "metadata": {},
   "outputs": [],
   "source": [
    "#Removed username and password for privacy, but those are required fields.\n",
    "reddit = praw.Reddit(client_id='Bqkkt_apVXguaQ',\n",
    "                     client_secret='nCy7NK-SBX4V2ujHlQ7j_KHXZYU',\n",
    "                     user_agent='MT_1',\n",
    "                     username='miket5099',\n",
    "                     password='nycdsicc5')"
   ]
  },
  {
   "cell_type": "code",
   "execution_count": 3,
   "metadata": {},
   "outputs": [],
   "source": [
    "#Set lpt variable to the LifeProTips subreddit data\n",
    "#Pulling in the top 1000 posts (if available)\n",
    "lpt = reddit.subreddit('LifeProTips')\n",
    "lpt = lpt.top(limit = 1000)"
   ]
  },
  {
   "cell_type": "code",
   "execution_count": 4,
   "metadata": {},
   "outputs": [],
   "source": [
    "#Create an dictionary with empty lists to populate data from lpt.top\n",
    "lpt_dict = { \"id\": [],\"text\": [], \"target\": []}\n",
    "\n",
    "#For loop to append data into empty lists within lpt_dict. Assigning positive outcome as LPT.\n",
    "for post in lpt:\n",
    "        lpt_dict[\"id\"].append(post.id)\n",
    "        lpt_dict[\"text\"].append(post.title + \" \" + post.selftext) # + post.selftext\n",
    "        #lpt_dict[\"comments\"].append(post.comments)\n",
    "        lpt_dict[\"target\"].append(1)"
   ]
  },
  {
   "cell_type": "code",
   "execution_count": 5,
   "metadata": {},
   "outputs": [
    {
     "data": {
      "text/html": [
       "<div>\n",
       "<style scoped>\n",
       "    .dataframe tbody tr th:only-of-type {\n",
       "        vertical-align: middle;\n",
       "    }\n",
       "\n",
       "    .dataframe tbody tr th {\n",
       "        vertical-align: top;\n",
       "    }\n",
       "\n",
       "    .dataframe thead th {\n",
       "        text-align: right;\n",
       "    }\n",
       "</style>\n",
       "<table border=\"1\" class=\"dataframe\">\n",
       "  <thead>\n",
       "    <tr style=\"text-align: right;\">\n",
       "      <th></th>\n",
       "      <th>id</th>\n",
       "      <th>text</th>\n",
       "      <th>target</th>\n",
       "    </tr>\n",
       "  </thead>\n",
       "  <tbody>\n",
       "    <tr>\n",
       "      <th>0</th>\n",
       "      <td>6s7ln1</td>\n",
       "      <td>LPT: if your LPT is about fucking coconuts, it...</td>\n",
       "      <td>1</td>\n",
       "    </tr>\n",
       "    <tr>\n",
       "      <th>1</th>\n",
       "      <td>89unew</td>\n",
       "      <td>LPT: If you like one song by an artist, but do...</td>\n",
       "      <td>1</td>\n",
       "    </tr>\n",
       "    <tr>\n",
       "      <th>2</th>\n",
       "      <td>7fnpgs</td>\n",
       "      <td>LPT: Pay Attention to the smell of your home w...</td>\n",
       "      <td>1</td>\n",
       "    </tr>\n",
       "    <tr>\n",
       "      <th>3</th>\n",
       "      <td>98d589</td>\n",
       "      <td>LPT: for those of you going to college for the...</td>\n",
       "      <td>1</td>\n",
       "    </tr>\n",
       "    <tr>\n",
       "      <th>4</th>\n",
       "      <td>7yvxw4</td>\n",
       "      <td>LPT: X percent of Y is equal to Y percent of X...</td>\n",
       "      <td>1</td>\n",
       "    </tr>\n",
       "  </tbody>\n",
       "</table>\n",
       "</div>"
      ],
      "text/plain": [
       "       id                                               text  target\n",
       "0  6s7ln1  LPT: if your LPT is about fucking coconuts, it...       1\n",
       "1  89unew  LPT: If you like one song by an artist, but do...       1\n",
       "2  7fnpgs  LPT: Pay Attention to the smell of your home w...       1\n",
       "3  98d589  LPT: for those of you going to college for the...       1\n",
       "4  7yvxw4  LPT: X percent of Y is equal to Y percent of X...       1"
      ]
     },
     "execution_count": 5,
     "metadata": {},
     "output_type": "execute_result"
    }
   ],
   "source": [
    "#Create Pandas DataFrame from disctionary for easy manipulation\n",
    "lpt_df = pd.DataFrame(lpt_dict, columns = [\"id\", \"text\", \"target\"])\n",
    "lpt_df.head()"
   ]
  },
  {
   "cell_type": "code",
   "execution_count": 6,
   "metadata": {},
   "outputs": [
    {
     "data": {
      "text/html": [
       "<div>\n",
       "<style scoped>\n",
       "    .dataframe tbody tr th:only-of-type {\n",
       "        vertical-align: middle;\n",
       "    }\n",
       "\n",
       "    .dataframe tbody tr th {\n",
       "        vertical-align: top;\n",
       "    }\n",
       "\n",
       "    .dataframe thead th {\n",
       "        text-align: right;\n",
       "    }\n",
       "</style>\n",
       "<table border=\"1\" class=\"dataframe\">\n",
       "  <thead>\n",
       "    <tr style=\"text-align: right;\">\n",
       "      <th></th>\n",
       "      <th>id</th>\n",
       "      <th>text</th>\n",
       "      <th>target</th>\n",
       "    </tr>\n",
       "  </thead>\n",
       "  <tbody>\n",
       "    <tr>\n",
       "      <th>1</th>\n",
       "      <td>89unew</td>\n",
       "      <td>LPT: If you like one song by an artist, but do...</td>\n",
       "      <td>1</td>\n",
       "    </tr>\n",
       "    <tr>\n",
       "      <th>2</th>\n",
       "      <td>7fnpgs</td>\n",
       "      <td>LPT: Pay Attention to the smell of your home w...</td>\n",
       "      <td>1</td>\n",
       "    </tr>\n",
       "    <tr>\n",
       "      <th>3</th>\n",
       "      <td>98d589</td>\n",
       "      <td>LPT: for those of you going to college for the...</td>\n",
       "      <td>1</td>\n",
       "    </tr>\n",
       "    <tr>\n",
       "      <th>4</th>\n",
       "      <td>7yvxw4</td>\n",
       "      <td>LPT: X percent of Y is equal to Y percent of X...</td>\n",
       "      <td>1</td>\n",
       "    </tr>\n",
       "    <tr>\n",
       "      <th>5</th>\n",
       "      <td>6a5j3z</td>\n",
       "      <td>LPT : If you are asked to create an account in...</td>\n",
       "      <td>1</td>\n",
       "    </tr>\n",
       "  </tbody>\n",
       "</table>\n",
       "</div>"
      ],
      "text/plain": [
       "       id                                               text  target\n",
       "1  89unew  LPT: If you like one song by an artist, but do...       1\n",
       "2  7fnpgs  LPT: Pay Attention to the smell of your home w...       1\n",
       "3  98d589  LPT: for those of you going to college for the...       1\n",
       "4  7yvxw4  LPT: X percent of Y is equal to Y percent of X...       1\n",
       "5  6a5j3z  LPT : If you are asked to create an account in...       1"
      ]
     },
     "execution_count": 6,
     "metadata": {},
     "output_type": "execute_result"
    }
   ],
   "source": [
    "lpt_df[1:].head()"
   ]
  },
  {
   "cell_type": "code",
   "execution_count": 7,
   "metadata": {},
   "outputs": [],
   "source": [
    "#Set lpt variable to the UnethicalLifeProTips subreddit data\n",
    "#Pulling in the top 1000 posts (if available)\n",
    "ulpt = reddit.subreddit('UnethicalLifeProTips')\n",
    "ulpt = ulpt.top(limit = 1000)"
   ]
  },
  {
   "cell_type": "code",
   "execution_count": 8,
   "metadata": {},
   "outputs": [],
   "source": [
    "#Create an dictionary with empty lists to populate data from ulpt.top\n",
    "ulpt_dict = { \"id\": [],\"text\": [], \"target\": []}\n",
    "\n",
    "#For loop to append data into empty lists within lpt_dict. Assigning positive outcome as LPT.\n",
    "for post in ulpt:\n",
    "        ulpt_dict[\"id\"].append(post.id)\n",
    "        ulpt_dict[\"text\"].append(post.title + \" \" + post.selftext) # + post.selftext\n",
    "        #lpt_dict[\"comments\"].append(post.comments)\n",
    "        ulpt_dict[\"target\"].append(0)"
   ]
  },
  {
   "cell_type": "code",
   "execution_count": 9,
   "metadata": {},
   "outputs": [
    {
     "data": {
      "text/html": [
       "<div>\n",
       "<style scoped>\n",
       "    .dataframe tbody tr th:only-of-type {\n",
       "        vertical-align: middle;\n",
       "    }\n",
       "\n",
       "    .dataframe tbody tr th {\n",
       "        vertical-align: top;\n",
       "    }\n",
       "\n",
       "    .dataframe thead th {\n",
       "        text-align: right;\n",
       "    }\n",
       "</style>\n",
       "<table border=\"1\" class=\"dataframe\">\n",
       "  <thead>\n",
       "    <tr style=\"text-align: right;\">\n",
       "      <th></th>\n",
       "      <th>id</th>\n",
       "      <th>text</th>\n",
       "      <th>target</th>\n",
       "    </tr>\n",
       "  </thead>\n",
       "  <tbody>\n",
       "    <tr>\n",
       "      <th>0</th>\n",
       "      <td>99vv9n</td>\n",
       "      <td>ULPT: If you glue a dead wasp to the palm of y...</td>\n",
       "      <td>0</td>\n",
       "    </tr>\n",
       "    <tr>\n",
       "      <th>1</th>\n",
       "      <td>9aoxrm</td>\n",
       "      <td>ULPT: Concerned about unvaccinated children sp...</td>\n",
       "      <td>0</td>\n",
       "    </tr>\n",
       "    <tr>\n",
       "      <th>2</th>\n",
       "      <td>9a1s90</td>\n",
       "      <td>ULPT: for new students staying in dorms. If yo...</td>\n",
       "      <td>0</td>\n",
       "    </tr>\n",
       "    <tr>\n",
       "      <th>3</th>\n",
       "      <td>99n2pw</td>\n",
       "      <td>ULPT: Tell your friends that you've made them ...</td>\n",
       "      <td>0</td>\n",
       "    </tr>\n",
       "    <tr>\n",
       "      <th>4</th>\n",
       "      <td>9b9t5n</td>\n",
       "      <td>ULPT: Need friends? Create an attractive fake ...</td>\n",
       "      <td>0</td>\n",
       "    </tr>\n",
       "  </tbody>\n",
       "</table>\n",
       "</div>"
      ],
      "text/plain": [
       "       id                                               text  target\n",
       "0  99vv9n  ULPT: If you glue a dead wasp to the palm of y...       0\n",
       "1  9aoxrm  ULPT: Concerned about unvaccinated children sp...       0\n",
       "2  9a1s90  ULPT: for new students staying in dorms. If yo...       0\n",
       "3  99n2pw  ULPT: Tell your friends that you've made them ...       0\n",
       "4  9b9t5n  ULPT: Need friends? Create an attractive fake ...       0"
      ]
     },
     "execution_count": 9,
     "metadata": {},
     "output_type": "execute_result"
    }
   ],
   "source": [
    "#Create Pandas DataFrame from disctionary for easy manipulation\n",
    "ulpt_df = pd.DataFrame(ulpt_dict, columns = [\"id\", \"text\", \"target\"])\n",
    "ulpt_df.head()"
   ]
  },
  {
   "cell_type": "code",
   "execution_count": 10,
   "metadata": {},
   "outputs": [],
   "source": [
    "#Combine the two DataFrames together. \n",
    "df = pd.concat([lpt_df, ulpt_df])"
   ]
  },
  {
   "cell_type": "code",
   "execution_count": 11,
   "metadata": {},
   "outputs": [
    {
     "data": {
      "text/html": [
       "<div>\n",
       "<style scoped>\n",
       "    .dataframe tbody tr th:only-of-type {\n",
       "        vertical-align: middle;\n",
       "    }\n",
       "\n",
       "    .dataframe tbody tr th {\n",
       "        vertical-align: top;\n",
       "    }\n",
       "\n",
       "    .dataframe thead th {\n",
       "        text-align: right;\n",
       "    }\n",
       "</style>\n",
       "<table border=\"1\" class=\"dataframe\">\n",
       "  <thead>\n",
       "    <tr style=\"text-align: right;\">\n",
       "      <th></th>\n",
       "      <th>id</th>\n",
       "      <th>text</th>\n",
       "      <th>target</th>\n",
       "    </tr>\n",
       "  </thead>\n",
       "  <tbody>\n",
       "    <tr>\n",
       "      <th>0</th>\n",
       "      <td>6s7ln1</td>\n",
       "      <td>LPT: if your LPT is about fucking coconuts, it...</td>\n",
       "      <td>1</td>\n",
       "    </tr>\n",
       "    <tr>\n",
       "      <th>1</th>\n",
       "      <td>89unew</td>\n",
       "      <td>LPT: If you like one song by an artist, but do...</td>\n",
       "      <td>1</td>\n",
       "    </tr>\n",
       "    <tr>\n",
       "      <th>2</th>\n",
       "      <td>7fnpgs</td>\n",
       "      <td>LPT: Pay Attention to the smell of your home w...</td>\n",
       "      <td>1</td>\n",
       "    </tr>\n",
       "    <tr>\n",
       "      <th>3</th>\n",
       "      <td>98d589</td>\n",
       "      <td>LPT: for those of you going to college for the...</td>\n",
       "      <td>1</td>\n",
       "    </tr>\n",
       "    <tr>\n",
       "      <th>4</th>\n",
       "      <td>7yvxw4</td>\n",
       "      <td>LPT: X percent of Y is equal to Y percent of X...</td>\n",
       "      <td>1</td>\n",
       "    </tr>\n",
       "  </tbody>\n",
       "</table>\n",
       "</div>"
      ],
      "text/plain": [
       "       id                                               text  target\n",
       "0  6s7ln1  LPT: if your LPT is about fucking coconuts, it...       1\n",
       "1  89unew  LPT: If you like one song by an artist, but do...       1\n",
       "2  7fnpgs  LPT: Pay Attention to the smell of your home w...       1\n",
       "3  98d589  LPT: for those of you going to college for the...       1\n",
       "4  7yvxw4  LPT: X percent of Y is equal to Y percent of X...       1"
      ]
     },
     "execution_count": 11,
     "metadata": {},
     "output_type": "execute_result"
    }
   ],
   "source": [
    "df.head()"
   ]
  },
  {
   "cell_type": "code",
   "execution_count": 12,
   "metadata": {},
   "outputs": [],
   "source": [
    "df.to_csv(\"./data/subreddits_1\")"
   ]
  },
  {
   "cell_type": "code",
   "execution_count": 13,
   "metadata": {},
   "outputs": [
    {
     "data": {
      "text/plain": [
       "9eg1b1    1\n",
       "6toivu    1\n",
       "7k0e05    1\n",
       "8cbkcb    1\n",
       "8y6xx7    1\n",
       "Name: id, dtype: int64"
      ]
     },
     "execution_count": 13,
     "metadata": {},
     "output_type": "execute_result"
    }
   ],
   "source": [
    "#Please note, I pulled in the post ID's to do a final check to make sure no duplicate posts were pulled in.\n",
    "df[\"id\"].value_counts().sort_values(ascending = False).head()"
   ]
  },
  {
   "cell_type": "code",
   "execution_count": 14,
   "metadata": {},
   "outputs": [
    {
     "data": {
      "text/plain": [
       "0    912\n",
       "1    881\n",
       "Name: target, dtype: int64"
      ]
     },
     "execution_count": 14,
     "metadata": {},
     "output_type": "execute_result"
    }
   ],
   "source": [
    "#Check if our classes are balanced. In this case, they are.\n",
    "df[\"target\"].value_counts()"
   ]
  },
  {
   "cell_type": "markdown",
   "metadata": {},
   "source": [
    "I pulled in the ShittyLifeProTips subreddit as a holdout group to see if the models can tell if these are good or bad tips. This is obviously not required, but I wanted to do this for fun and see what happens."
   ]
  },
  {
   "cell_type": "code",
   "execution_count": 15,
   "metadata": {},
   "outputs": [],
   "source": [
    "slpt = reddit.subreddit('ShittyLifeProTips')\n",
    "slpt = slpt.top(limit = 1000)"
   ]
  },
  {
   "cell_type": "code",
   "execution_count": 16,
   "metadata": {},
   "outputs": [],
   "source": [
    "#Create an dictionary with empty lists to populate data from slpt.top\n",
    "slpt_dict = {\"text\": []}\n",
    "\n",
    "#For loop to append data into empty lists within ulpt_dict. Assigning negative outcome as ULPT.\n",
    "for post in slpt:\n",
    "        slpt_dict[\"text\"].append(post.title + \" \" + post.selftext)"
   ]
  },
  {
   "cell_type": "code",
   "execution_count": 17,
   "metadata": {},
   "outputs": [
    {
     "data": {
      "text/html": [
       "<div>\n",
       "<style scoped>\n",
       "    .dataframe tbody tr th:only-of-type {\n",
       "        vertical-align: middle;\n",
       "    }\n",
       "\n",
       "    .dataframe tbody tr th {\n",
       "        vertical-align: top;\n",
       "    }\n",
       "\n",
       "    .dataframe thead th {\n",
       "        text-align: right;\n",
       "    }\n",
       "</style>\n",
       "<table border=\"1\" class=\"dataframe\">\n",
       "  <thead>\n",
       "    <tr style=\"text-align: right;\">\n",
       "      <th></th>\n",
       "      <th>text</th>\n",
       "      <th>target</th>\n",
       "    </tr>\n",
       "  </thead>\n",
       "  <tbody>\n",
       "    <tr>\n",
       "      <th>0</th>\n",
       "      <td>LPT: Don't have YouTube Red? Access it for fre...</td>\n",
       "      <td>0</td>\n",
       "    </tr>\n",
       "    <tr>\n",
       "      <th>1</th>\n",
       "      <td>If you stain a shirt, you can simply outline t...</td>\n",
       "      <td>0</td>\n",
       "    </tr>\n",
       "    <tr>\n",
       "      <th>2</th>\n",
       "      <td>Public bathroom LPT</td>\n",
       "      <td>0</td>\n",
       "    </tr>\n",
       "    <tr>\n",
       "      <th>3</th>\n",
       "      <td>LPT: Glue a tiny mirror over the picture of yo...</td>\n",
       "      <td>0</td>\n",
       "    </tr>\n",
       "    <tr>\n",
       "      <th>4</th>\n",
       "      <td>Cutting your tennis balls in half allows you t...</td>\n",
       "      <td>0</td>\n",
       "    </tr>\n",
       "  </tbody>\n",
       "</table>\n",
       "</div>"
      ],
      "text/plain": [
       "                                                text  target\n",
       "0  LPT: Don't have YouTube Red? Access it for fre...       0\n",
       "1  If you stain a shirt, you can simply outline t...       0\n",
       "2                               Public bathroom LPT        0\n",
       "3  LPT: Glue a tiny mirror over the picture of yo...       0\n",
       "4  Cutting your tennis balls in half allows you t...       0"
      ]
     },
     "execution_count": 17,
     "metadata": {},
     "output_type": "execute_result"
    }
   ],
   "source": [
    "slpt_df = pd.DataFrame(slpt_dict, columns = [\"text\"])\n",
    "#Set target to 0 as the ShittyLifeProTips are likely to be similar to the UnethicalLifeProTips.\n",
    "slpt_df[\"target\"] = 0\n",
    "slpt_df.head()"
   ]
  },
  {
   "cell_type": "markdown",
   "metadata": {},
   "source": [
    "Another way to gather data is by using requests.get (which is a more generalized way if you're not gathering data from Reddit). Since by default, Reddit will only you the top 25 posts, we need to write a for loop to gather more posts using `xyz[\"data\"][\"after\"]` to identify the last post that was pulled, and pass into `https://www.reddit.com/r/LifeProTips.json?after=` for subsequent requests. Since we want to be respectful (and don't want Reddit to think we're up to any funny business), we use `time.sleep(3)` to pause 3 seconds in between pings to their server.\n",
    "\n",
    "Since this method was not used, I have commented this out."
   ]
  },
  {
   "cell_type": "code",
   "execution_count": 18,
   "metadata": {},
   "outputs": [],
   "source": [
    "# plt_list = []\n",
    "# url = \"https://www.reddit.com/r/LifeProTips.json\"\n",
    "# for i in range (1,50):\n",
    "#     temp_json = requests.get(url, headers={'User-agent': 'MT'}).json()\n",
    "#     temp_list = []\n",
    "#     for j in range (1,25):\n",
    "#         temp_list.append(temp_json[\"data\"][\"children\"][j][\"data\"][\"title\"])\n",
    "#     plt_list.extend(temp_list)\n",
    "#     url = \"https://www.reddit.com/r/LifeProTips.json?after=\" + temp_json[\"data\"][\"after\"]\n",
    "#     time.sleep(3)"
   ]
  },
  {
   "cell_type": "code",
   "execution_count": 19,
   "metadata": {},
   "outputs": [],
   "source": [
    "# uplt_list = []\n",
    "# url = \"https://www.reddit.com/r/UnethicalLifeProTips.json\"\n",
    "# for i in range (1,50):\n",
    "#     temp_json = requests.get(url, headers={'User-agent': 'MT'}).json()\n",
    "#     temp_list = []\n",
    "#     for j in range (1,25):\n",
    "#         temp_list.append(temp_json[\"data\"][\"children\"][j][\"data\"][\"title\"])\n",
    "#     uplt_list.extend(temp_list)\n",
    "#     url = \"https://www.reddit.com/r/UnethicalLifeProTips.json?after=\" + temp_json[\"data\"][\"after\"]\n",
    "#     time.sleep(3)"
   ]
  },
  {
   "cell_type": "markdown",
   "metadata": {},
   "source": [
    "### Cleaning/Pre-processing\n",
    "Now that we have a pretty solid data set, let's see what we can do to clean this up. Here's what we can start with:\n",
    "\n",
    "- Change everything to lowercase since we don't want our model to see \"Hello\" and \"hello\" as different words.\n",
    "- Remove puncutation as they will most likely not be helpful in subreddit classification.\n",
    "- Remove obvious words that will help classify the posts, i.e. \"LPT\" and \"ULPT\".\n",
    "- Remove common words e.g. \"the\", \"and\", etc. by removing stop words. (We may need to customize this list).\n",
    "    \n",
    "Some points above will be done when we vectorize our title series such as removing stop words."
   ]
  },
  {
   "cell_type": "code",
   "execution_count": 20,
   "metadata": {},
   "outputs": [],
   "source": [
    "#Switch everything in title column to lowercase\n",
    "df[\"text\"] = df[\"text\"].map(lambda x: x.lower())\n",
    "#remove puncuation\n",
    "df[\"text\"] = df[\"text\"].str.replace(\"[^\\w\\s]\",'')\n",
    "#Clean out obvious words that help classify posts i.e. ulpt and lpt\n",
    "df[\"text\"] = df[\"text\"].map(lambda x: x.replace(\"ulpt \", \"\"))\n",
    "df[\"text\"] = df[\"text\"].map(lambda x: x.replace(\"lpt \", \"\"))"
   ]
  },
  {
   "cell_type": "code",
   "execution_count": 21,
   "metadata": {},
   "outputs": [],
   "source": [
    "#Lets clean our holdout set as well.\n",
    "slpt_df[\"text\"] = slpt_df[\"text\"].map(lambda x: x.lower())\n",
    "slpt_df[\"text\"] = slpt_df[\"text\"].str.replace(\"[^\\w\\s]\",'')\n",
    "slpt_df[\"text\"] = slpt_df[\"text\"].map(lambda x: x.replace(\"ulpt \", \"\"))\n",
    "slpt_df[\"text\"] = slpt_df[\"text\"].map(lambda x: x.replace(\"slpt \", \"\"))\n",
    "slpt_df[\"text\"] = slpt_df[\"text\"].map(lambda x: x.replace(\"lpt \", \"\"))"
   ]
  },
  {
   "cell_type": "code",
   "execution_count": 22,
   "metadata": {},
   "outputs": [
    {
     "data": {
      "text/html": [
       "<div>\n",
       "<style scoped>\n",
       "    .dataframe tbody tr th:only-of-type {\n",
       "        vertical-align: middle;\n",
       "    }\n",
       "\n",
       "    .dataframe tbody tr th {\n",
       "        vertical-align: top;\n",
       "    }\n",
       "\n",
       "    .dataframe thead th {\n",
       "        text-align: right;\n",
       "    }\n",
       "</style>\n",
       "<table border=\"1\" class=\"dataframe\">\n",
       "  <thead>\n",
       "    <tr style=\"text-align: right;\">\n",
       "      <th></th>\n",
       "      <th>id</th>\n",
       "      <th>text</th>\n",
       "      <th>target</th>\n",
       "    </tr>\n",
       "  </thead>\n",
       "  <tbody>\n",
       "    <tr>\n",
       "      <th>1</th>\n",
       "      <td>89unew</td>\n",
       "      <td>if you like one song by an artist but dont dig...</td>\n",
       "      <td>1</td>\n",
       "    </tr>\n",
       "    <tr>\n",
       "      <th>2</th>\n",
       "      <td>7fnpgs</td>\n",
       "      <td>pay attention to the smell of your home when y...</td>\n",
       "      <td>1</td>\n",
       "    </tr>\n",
       "    <tr>\n",
       "      <th>3</th>\n",
       "      <td>98d589</td>\n",
       "      <td>for those of you going to college for the firs...</td>\n",
       "      <td>1</td>\n",
       "    </tr>\n",
       "    <tr>\n",
       "      <th>4</th>\n",
       "      <td>7yvxw4</td>\n",
       "      <td>x percent of y is equal to y percent of x so i...</td>\n",
       "      <td>1</td>\n",
       "    </tr>\n",
       "    <tr>\n",
       "      <th>5</th>\n",
       "      <td>6a5j3z</td>\n",
       "      <td>if you are asked to create an account in orde...</td>\n",
       "      <td>1</td>\n",
       "    </tr>\n",
       "  </tbody>\n",
       "</table>\n",
       "</div>"
      ],
      "text/plain": [
       "       id                                               text  target\n",
       "1  89unew  if you like one song by an artist but dont dig...       1\n",
       "2  7fnpgs  pay attention to the smell of your home when y...       1\n",
       "3  98d589  for those of you going to college for the firs...       1\n",
       "4  7yvxw4  x percent of y is equal to y percent of x so i...       1\n",
       "5  6a5j3z   if you are asked to create an account in orde...       1"
      ]
     },
     "execution_count": 22,
     "metadata": {},
     "output_type": "execute_result"
    }
   ],
   "source": [
    "df[1:].head()"
   ]
  },
  {
   "cell_type": "code",
   "execution_count": 23,
   "metadata": {},
   "outputs": [
    {
     "data": {
      "text/html": [
       "<div>\n",
       "<style scoped>\n",
       "    .dataframe tbody tr th:only-of-type {\n",
       "        vertical-align: middle;\n",
       "    }\n",
       "\n",
       "    .dataframe tbody tr th {\n",
       "        vertical-align: top;\n",
       "    }\n",
       "\n",
       "    .dataframe thead th {\n",
       "        text-align: right;\n",
       "    }\n",
       "</style>\n",
       "<table border=\"1\" class=\"dataframe\">\n",
       "  <thead>\n",
       "    <tr style=\"text-align: right;\">\n",
       "      <th></th>\n",
       "      <th>text</th>\n",
       "      <th>target</th>\n",
       "    </tr>\n",
       "  </thead>\n",
       "  <tbody>\n",
       "    <tr>\n",
       "      <th>0</th>\n",
       "      <td>dont have youtube red access it for free by us...</td>\n",
       "      <td>0</td>\n",
       "    </tr>\n",
       "    <tr>\n",
       "      <th>1</th>\n",
       "      <td>if you stain a shirt you can simply outline th...</td>\n",
       "      <td>0</td>\n",
       "    </tr>\n",
       "    <tr>\n",
       "      <th>2</th>\n",
       "      <td>public bathroom</td>\n",
       "      <td>0</td>\n",
       "    </tr>\n",
       "    <tr>\n",
       "      <th>3</th>\n",
       "      <td>glue a tiny mirror over the picture of you on ...</td>\n",
       "      <td>0</td>\n",
       "    </tr>\n",
       "    <tr>\n",
       "      <th>4</th>\n",
       "      <td>cutting your tennis balls in half allows you t...</td>\n",
       "      <td>0</td>\n",
       "    </tr>\n",
       "  </tbody>\n",
       "</table>\n",
       "</div>"
      ],
      "text/plain": [
       "                                                text  target\n",
       "0  dont have youtube red access it for free by us...       0\n",
       "1  if you stain a shirt you can simply outline th...       0\n",
       "2                                   public bathroom        0\n",
       "3  glue a tiny mirror over the picture of you on ...       0\n",
       "4  cutting your tennis balls in half allows you t...       0"
      ]
     },
     "execution_count": 23,
     "metadata": {},
     "output_type": "execute_result"
    }
   ],
   "source": [
    "slpt_df.head()"
   ]
  },
  {
   "cell_type": "code",
   "execution_count": 24,
   "metadata": {},
   "outputs": [],
   "source": [
    "df.to_csv(\"./data/subreddits_1\")"
   ]
  },
  {
   "cell_type": "code",
   "execution_count": 25,
   "metadata": {},
   "outputs": [],
   "source": [
    "slpt_df.to_csv(\"./data/slpt\")"
   ]
  },
  {
   "cell_type": "markdown",
   "metadata": {},
   "source": [
    "### Modeling\n",
    "\n",
    "Let's start modeling. We can set up pipelines to vectorize and fit our models, then feed that into GridSearchCV to optimize our hyper-parameters."
   ]
  },
  {
   "cell_type": "code",
   "execution_count": 26,
   "metadata": {},
   "outputs": [
    {
     "data": {
      "text/plain": [
       "0    0.508645\n",
       "1    0.491355\n",
       "Name: target, dtype: float64"
      ]
     },
     "execution_count": 26,
     "metadata": {},
     "output_type": "execute_result"
    }
   ],
   "source": [
    "#Check our baseline Accuracy score. If we were to predict all posts as UnethicalLifeProTips, our accuracy would be 51%.\n",
    "#The hope is that our models will beat this score.\n",
    "df[\"target\"].value_counts(normalize = True)"
   ]
  },
  {
   "cell_type": "code",
   "execution_count": 27,
   "metadata": {},
   "outputs": [],
   "source": [
    "#We want to set our X as the text column and our y as the target column of the dataframe.\n",
    "X = df[\"text\"]\n",
    "y = df[\"target\"]"
   ]
  },
  {
   "cell_type": "code",
   "execution_count": 28,
   "metadata": {},
   "outputs": [],
   "source": [
    "#Can't forget to do a train/test split. It's always a good idea to stratify to ensure your y classes hold the same ratio.\n",
    "X_train, X_test, y_train, y_test = train_test_split(X, y, stratify = y, random_state = 25, test_size = 0.3)"
   ]
  },
  {
   "cell_type": "code",
   "execution_count": 29,
   "metadata": {},
   "outputs": [],
   "source": [
    "#Lets first instantiate our Vectorizers and Models we want to use and feed into our pipeline.\n",
    "cvect = CountVectorizer(stop_words=\"english\")\n",
    "tvect = TfidfVectorizer(stop_words=\"english\")\n",
    "multinb = MultinomialNB()\n",
    "logreg = LogisticRegression()\n",
    "rf = RandomForestClassifier()\n",
    "et = ExtraTreesClassifier()\n",
    "ada = AdaBoostClassifier()"
   ]
  },
  {
   "cell_type": "markdown",
   "metadata": {},
   "source": [
    "#### Model 1 - CountVectorizer + MultinomialNB"
   ]
  },
  {
   "cell_type": "code",
   "execution_count": 30,
   "metadata": {},
   "outputs": [
    {
     "name": "stdout",
     "output_type": "stream",
     "text": [
      "{'cvect__max_df': 1.0, 'cvect__ngram_range': (1, 1), 'multinb__alpha': 1.0}\n",
      "Train Score 0.7370517928286853\n",
      "Test Score 0.7453531598513011\n"
     ]
    }
   ],
   "source": [
    "pipe_1 = Pipeline([\n",
    "    (\"cvect\", cvect),\n",
    "    (\"multinb\", multinb)\n",
    "])\n",
    "\n",
    "params = {\n",
    "    \"cvect__ngram_range\" : [(1,1), (1,2), (1,3), (1,4)],\n",
    "    \"cvect__max_df\" : [1.0, 0.9, 0.8],\n",
    "    \"multinb__alpha\" : [0.1, 0.5, 1.0, 5.0, 10.0, 100.0]\n",
    "    \n",
    "}\n",
    "\n",
    "gs_1 = GridSearchCV(pipe_1, param_grid=params)\n",
    "gs_1.fit(X_train, y_train)\n",
    "\n",
    "print(gs_1.best_params_)\n",
    "print(\"Train Score\", gs_1.best_score_)\n",
    "print(\"Test Score\", gs_1.score(X_test, y_test))"
   ]
  },
  {
   "cell_type": "code",
   "execution_count": 31,
   "metadata": {},
   "outputs": [
    {
     "data": {
      "text/plain": [
       "array([[9.33266902e-01, 6.67330976e-02],\n",
       "       [9.99747742e-01, 2.52258144e-04],\n",
       "       [4.08613320e-04, 9.99591387e-01],\n",
       "       [2.78520676e-09, 9.99999997e-01],\n",
       "       [9.99965066e-01, 3.49343109e-05]])"
      ]
     },
     "execution_count": 31,
     "metadata": {},
     "output_type": "execute_result"
    }
   ],
   "source": [
    "gs_1.predict_proba(X_test)[:5]"
   ]
  },
  {
   "cell_type": "code",
   "execution_count": 32,
   "metadata": {},
   "outputs": [],
   "source": [
    "predictions_1 = gs_1.predict(X_test)"
   ]
  },
  {
   "cell_type": "code",
   "execution_count": 33,
   "metadata": {},
   "outputs": [],
   "source": [
    "test_pred_1 = pd.DataFrame()\n",
    "test_pred_1[\"post\"] = X_test\n",
    "test_pred_1[\"target\"] = y_test\n",
    "test_pred_1[\"predictions\"] = predictions_1"
   ]
  },
  {
   "cell_type": "code",
   "execution_count": 34,
   "metadata": {},
   "outputs": [
    {
     "data": {
      "text/html": [
       "<div>\n",
       "<style scoped>\n",
       "    .dataframe tbody tr th:only-of-type {\n",
       "        vertical-align: middle;\n",
       "    }\n",
       "\n",
       "    .dataframe tbody tr th {\n",
       "        vertical-align: top;\n",
       "    }\n",
       "\n",
       "    .dataframe thead th {\n",
       "        text-align: right;\n",
       "    }\n",
       "</style>\n",
       "<table border=\"1\" class=\"dataframe\">\n",
       "  <thead>\n",
       "    <tr style=\"text-align: right;\">\n",
       "      <th></th>\n",
       "      <th>post</th>\n",
       "      <th>target</th>\n",
       "      <th>predictions</th>\n",
       "    </tr>\n",
       "  </thead>\n",
       "  <tbody>\n",
       "    <tr>\n",
       "      <th>309</th>\n",
       "      <td>if youre a new alcoholic or in the process of ...</td>\n",
       "      <td>0</td>\n",
       "      <td>0</td>\n",
       "    </tr>\n",
       "    <tr>\n",
       "      <th>491</th>\n",
       "      <td>buy an online mattress from casper etc return ...</td>\n",
       "      <td>0</td>\n",
       "      <td>0</td>\n",
       "    </tr>\n",
       "    <tr>\n",
       "      <th>748</th>\n",
       "      <td>no matter if you like the person or not always...</td>\n",
       "      <td>1</td>\n",
       "      <td>1</td>\n",
       "    </tr>\n",
       "    <tr>\n",
       "      <th>538</th>\n",
       "      <td>never send an email when youre in a heightened...</td>\n",
       "      <td>1</td>\n",
       "      <td>1</td>\n",
       "    </tr>\n",
       "    <tr>\n",
       "      <th>757</th>\n",
       "      <td>keep your old visa gift cards if you want to s...</td>\n",
       "      <td>0</td>\n",
       "      <td>0</td>\n",
       "    </tr>\n",
       "  </tbody>\n",
       "</table>\n",
       "</div>"
      ],
      "text/plain": [
       "                                                  post  target  predictions\n",
       "309  if youre a new alcoholic or in the process of ...       0            0\n",
       "491  buy an online mattress from casper etc return ...       0            0\n",
       "748  no matter if you like the person or not always...       1            1\n",
       "538  never send an email when youre in a heightened...       1            1\n",
       "757  keep your old visa gift cards if you want to s...       0            0"
      ]
     },
     "execution_count": 34,
     "metadata": {},
     "output_type": "execute_result"
    }
   ],
   "source": [
    "test_pred_1.head()"
   ]
  },
  {
   "cell_type": "code",
   "execution_count": 35,
   "metadata": {},
   "outputs": [
    {
     "data": {
      "text/html": [
       "<div>\n",
       "<style scoped>\n",
       "    .dataframe tbody tr th:only-of-type {\n",
       "        vertical-align: middle;\n",
       "    }\n",
       "\n",
       "    .dataframe tbody tr th {\n",
       "        vertical-align: top;\n",
       "    }\n",
       "\n",
       "    .dataframe thead th {\n",
       "        text-align: right;\n",
       "    }\n",
       "</style>\n",
       "<table border=\"1\" class=\"dataframe\">\n",
       "  <thead>\n",
       "    <tr style=\"text-align: right;\">\n",
       "      <th></th>\n",
       "      <th>Predicted Unethical</th>\n",
       "      <th>Predicted ProTip</th>\n",
       "    </tr>\n",
       "  </thead>\n",
       "  <tbody>\n",
       "    <tr>\n",
       "      <th>Actual Unethical</th>\n",
       "      <td>180</td>\n",
       "      <td>94</td>\n",
       "    </tr>\n",
       "    <tr>\n",
       "      <th>Actual ProTip</th>\n",
       "      <td>43</td>\n",
       "      <td>221</td>\n",
       "    </tr>\n",
       "  </tbody>\n",
       "</table>\n",
       "</div>"
      ],
      "text/plain": [
       "                  Predicted Unethical  Predicted ProTip\n",
       "Actual Unethical                  180                94\n",
       "Actual ProTip                      43               221"
      ]
     },
     "execution_count": 35,
     "metadata": {},
     "output_type": "execute_result"
    }
   ],
   "source": [
    "#Confusion Matrix\n",
    "cm1 = confusion_matrix(test_pred_1[\"target\"], test_pred_1[\"predictions\"])\n",
    "\n",
    "cm1_df = pd.DataFrame(cm1, columns = [\"Predicted Unethical\", \"Predicted ProTip\"], index = [\"Actual Unethical\", \"Actual ProTip\"])\n",
    "cm1_df"
   ]
  },
  {
   "cell_type": "markdown",
   "metadata": {},
   "source": [
    "Holdout data against CountVectorizer + MultinomialNB."
   ]
  },
  {
   "cell_type": "code",
   "execution_count": 36,
   "metadata": {},
   "outputs": [],
   "source": [
    "hold_preds_1 = gs_1.predict(slpt_df[\"text\"])\n",
    "\n",
    "holdout_pred_1 = pd.DataFrame()\n",
    "holdout_pred_1[\"post\"] = slpt_df[\"text\"]\n",
    "holdout_pred_1[\"predictions\"] = hold_preds_1"
   ]
  },
  {
   "cell_type": "code",
   "execution_count": 37,
   "metadata": {},
   "outputs": [
    {
     "data": {
      "text/plain": [
       "0    521\n",
       "1    472\n",
       "Name: predictions, dtype: int64"
      ]
     },
     "execution_count": 37,
     "metadata": {},
     "output_type": "execute_result"
    }
   ],
   "source": [
    "#We know all the posts in this holdout set should be closely associated with UnethicalLifeProTips\n",
    "holdout_pred_1[\"predictions\"].value_counts()"
   ]
  },
  {
   "cell_type": "markdown",
   "metadata": {},
   "source": [
    "#### Model 2 - TF-IDF Vectorizer + MultinomialNB"
   ]
  },
  {
   "cell_type": "code",
   "execution_count": 38,
   "metadata": {},
   "outputs": [
    {
     "name": "stdout",
     "output_type": "stream",
     "text": [
      "{'multinb__alpha': 10.0, 'tvect__max_df': 1.0, 'tvect__ngram_range': (1, 3)}\n",
      "Train Score 0.7617529880478088\n",
      "Test Score 0.7639405204460966\n"
     ]
    }
   ],
   "source": [
    "pipe_2 = Pipeline([\n",
    "    (\"tvect\", tvect),\n",
    "    (\"multinb\", multinb)\n",
    "])\n",
    "\n",
    "params = {\n",
    "    \"tvect__ngram_range\" : [(1,1), (1,2), (1,3), (1,4), (1,5)],\n",
    "    \"tvect__max_df\" : [1.0, 0.9, 0.8],\n",
    "    \"multinb__alpha\" : [0.1, 0.5, 1.0, 5.0, 10.0, 100.0]\n",
    "    \n",
    "}\n",
    "\n",
    "gs_2 = GridSearchCV(pipe_2, param_grid=params)\n",
    "gs_2.fit(X_train, y_train)\n",
    "\n",
    "print(gs_2.best_params_)\n",
    "print(\"Train Score\", gs_2.best_score_)\n",
    "print(\"Test Score\", gs_2.score(X_test, y_test))"
   ]
  },
  {
   "cell_type": "code",
   "execution_count": 39,
   "metadata": {},
   "outputs": [
    {
     "data": {
      "text/plain": [
       "array([[0.50132354, 0.49867646],\n",
       "       [0.53159162, 0.46840838],\n",
       "       [0.47008246, 0.52991754],\n",
       "       [0.47377265, 0.52622735],\n",
       "       [0.55482059, 0.44517941]])"
      ]
     },
     "execution_count": 39,
     "metadata": {},
     "output_type": "execute_result"
    }
   ],
   "source": [
    "gs_2.predict_proba(X_test)[:5]"
   ]
  },
  {
   "cell_type": "code",
   "execution_count": 40,
   "metadata": {},
   "outputs": [
    {
     "data": {
      "text/html": [
       "<div>\n",
       "<style scoped>\n",
       "    .dataframe tbody tr th:only-of-type {\n",
       "        vertical-align: middle;\n",
       "    }\n",
       "\n",
       "    .dataframe tbody tr th {\n",
       "        vertical-align: top;\n",
       "    }\n",
       "\n",
       "    .dataframe thead th {\n",
       "        text-align: right;\n",
       "    }\n",
       "</style>\n",
       "<table border=\"1\" class=\"dataframe\">\n",
       "  <thead>\n",
       "    <tr style=\"text-align: right;\">\n",
       "      <th></th>\n",
       "      <th>post</th>\n",
       "      <th>target</th>\n",
       "      <th>predictions</th>\n",
       "    </tr>\n",
       "  </thead>\n",
       "  <tbody>\n",
       "    <tr>\n",
       "      <th>309</th>\n",
       "      <td>if youre a new alcoholic or in the process of ...</td>\n",
       "      <td>0</td>\n",
       "      <td>0</td>\n",
       "    </tr>\n",
       "    <tr>\n",
       "      <th>491</th>\n",
       "      <td>buy an online mattress from casper etc return ...</td>\n",
       "      <td>0</td>\n",
       "      <td>0</td>\n",
       "    </tr>\n",
       "    <tr>\n",
       "      <th>748</th>\n",
       "      <td>no matter if you like the person or not always...</td>\n",
       "      <td>1</td>\n",
       "      <td>1</td>\n",
       "    </tr>\n",
       "    <tr>\n",
       "      <th>538</th>\n",
       "      <td>never send an email when youre in a heightened...</td>\n",
       "      <td>1</td>\n",
       "      <td>1</td>\n",
       "    </tr>\n",
       "    <tr>\n",
       "      <th>757</th>\n",
       "      <td>keep your old visa gift cards if you want to s...</td>\n",
       "      <td>0</td>\n",
       "      <td>0</td>\n",
       "    </tr>\n",
       "  </tbody>\n",
       "</table>\n",
       "</div>"
      ],
      "text/plain": [
       "                                                  post  target  predictions\n",
       "309  if youre a new alcoholic or in the process of ...       0            0\n",
       "491  buy an online mattress from casper etc return ...       0            0\n",
       "748  no matter if you like the person or not always...       1            1\n",
       "538  never send an email when youre in a heightened...       1            1\n",
       "757  keep your old visa gift cards if you want to s...       0            0"
      ]
     },
     "execution_count": 40,
     "metadata": {},
     "output_type": "execute_result"
    }
   ],
   "source": [
    "predictions_2 = gs_2.predict(X_test)\n",
    "\n",
    "test_pred_2 = pd.DataFrame()\n",
    "test_pred_2[\"post\"] = X_test\n",
    "test_pred_2[\"target\"] = y_test\n",
    "test_pred_2[\"predictions\"] = predictions_2\n",
    "test_pred_2.head()"
   ]
  },
  {
   "cell_type": "code",
   "execution_count": 41,
   "metadata": {},
   "outputs": [
    {
     "data": {
      "text/html": [
       "<div>\n",
       "<style scoped>\n",
       "    .dataframe tbody tr th:only-of-type {\n",
       "        vertical-align: middle;\n",
       "    }\n",
       "\n",
       "    .dataframe tbody tr th {\n",
       "        vertical-align: top;\n",
       "    }\n",
       "\n",
       "    .dataframe thead th {\n",
       "        text-align: right;\n",
       "    }\n",
       "</style>\n",
       "<table border=\"1\" class=\"dataframe\">\n",
       "  <thead>\n",
       "    <tr style=\"text-align: right;\">\n",
       "      <th></th>\n",
       "      <th>Predicted Unethical</th>\n",
       "      <th>Predicted ProTip</th>\n",
       "    </tr>\n",
       "  </thead>\n",
       "  <tbody>\n",
       "    <tr>\n",
       "      <th>Actual Unethical</th>\n",
       "      <td>196</td>\n",
       "      <td>78</td>\n",
       "    </tr>\n",
       "    <tr>\n",
       "      <th>Actual ProTip</th>\n",
       "      <td>49</td>\n",
       "      <td>215</td>\n",
       "    </tr>\n",
       "  </tbody>\n",
       "</table>\n",
       "</div>"
      ],
      "text/plain": [
       "                  Predicted Unethical  Predicted ProTip\n",
       "Actual Unethical                  196                78\n",
       "Actual ProTip                      49               215"
      ]
     },
     "execution_count": 41,
     "metadata": {},
     "output_type": "execute_result"
    }
   ],
   "source": [
    "#Confusion Matrix\n",
    "cm2 = confusion_matrix(test_pred_2[\"target\"], test_pred_2[\"predictions\"])\n",
    "\n",
    "cm2_df = pd.DataFrame(cm2, columns = [\"Predicted Unethical\", \"Predicted ProTip\"], index = [\"Actual Unethical\", \"Actual ProTip\"])\n",
    "cm2_df"
   ]
  },
  {
   "cell_type": "markdown",
   "metadata": {},
   "source": [
    "Holdout data against TF-IDF Vectorizer + MultinomialNB."
   ]
  },
  {
   "cell_type": "code",
   "execution_count": 42,
   "metadata": {},
   "outputs": [],
   "source": [
    "hold_preds_2 = gs_2.predict(slpt_df[\"text\"])\n",
    "\n",
    "holdout_2 = pd.DataFrame()\n",
    "holdout_2[\"post\"] = slpt_df[\"text\"]\n",
    "holdout_2[\"predictions\"] = hold_preds_2"
   ]
  },
  {
   "cell_type": "code",
   "execution_count": 43,
   "metadata": {},
   "outputs": [
    {
     "data": {
      "text/plain": [
       "0    637\n",
       "1    356\n",
       "Name: predictions, dtype: int64"
      ]
     },
     "execution_count": 43,
     "metadata": {},
     "output_type": "execute_result"
    }
   ],
   "source": [
    "#We know all the posts in this holdout set should be associated with UnethicalLifeProTips\n",
    "holdout_2[\"predictions\"].value_counts()"
   ]
  },
  {
   "cell_type": "markdown",
   "metadata": {},
   "source": [
    "#### Model 3 - CountVectorizer + Logistic Regression"
   ]
  },
  {
   "cell_type": "code",
   "execution_count": 44,
   "metadata": {},
   "outputs": [
    {
     "name": "stdout",
     "output_type": "stream",
     "text": [
      "{'cvect__max_df': 1.0, 'cvect__ngram_range': (1, 1), 'logreg__C': 1, 'logreg__penalty': 'l2'}\n",
      "Train Score 0.747410358565737\n",
      "Test Score 0.7509293680297398\n"
     ]
    }
   ],
   "source": [
    "pipe_3 = Pipeline([\n",
    "    (\"cvect\", cvect),\n",
    "    (\"logreg\", logreg)\n",
    "])\n",
    "\n",
    "params = {\n",
    "    \"cvect__ngram_range\" : [(1,1), (1,2), (1,3), (1,4)],\n",
    "    \"cvect__max_df\" : [1.0, 0.9, 0.8],\n",
    "    \"logreg__penalty\" : [\"l1\", \"l2\"],\n",
    "    \"logreg__C\" : [0.1, 0.5, 1, 5, 10]\n",
    "    \n",
    "}\n",
    "\n",
    "gs_3 = GridSearchCV(pipe_3, param_grid=params)\n",
    "gs_3.fit(X_train, y_train)\n",
    "\n",
    "print(gs_3.best_params_)\n",
    "print(\"Train Score\", gs_3.best_score_)\n",
    "print(\"Test Score\", gs_3.score(X_test, y_test))"
   ]
  },
  {
   "cell_type": "code",
   "execution_count": 45,
   "metadata": {},
   "outputs": [
    {
     "data": {
      "text/plain": [
       "array([[0.63251835, 0.36748165],\n",
       "       [0.92243232, 0.07756768],\n",
       "       [0.53977924, 0.46022076],\n",
       "       [0.00704337, 0.99295663],\n",
       "       [0.98668656, 0.01331344]])"
      ]
     },
     "execution_count": 45,
     "metadata": {},
     "output_type": "execute_result"
    }
   ],
   "source": [
    "gs_3.predict_proba(X_test)[:5]"
   ]
  },
  {
   "cell_type": "code",
   "execution_count": 46,
   "metadata": {},
   "outputs": [
    {
     "data": {
      "text/html": [
       "<div>\n",
       "<style scoped>\n",
       "    .dataframe tbody tr th:only-of-type {\n",
       "        vertical-align: middle;\n",
       "    }\n",
       "\n",
       "    .dataframe tbody tr th {\n",
       "        vertical-align: top;\n",
       "    }\n",
       "\n",
       "    .dataframe thead th {\n",
       "        text-align: right;\n",
       "    }\n",
       "</style>\n",
       "<table border=\"1\" class=\"dataframe\">\n",
       "  <thead>\n",
       "    <tr style=\"text-align: right;\">\n",
       "      <th></th>\n",
       "      <th>post</th>\n",
       "      <th>target</th>\n",
       "      <th>predictions</th>\n",
       "    </tr>\n",
       "  </thead>\n",
       "  <tbody>\n",
       "    <tr>\n",
       "      <th>309</th>\n",
       "      <td>if youre a new alcoholic or in the process of ...</td>\n",
       "      <td>0</td>\n",
       "      <td>0</td>\n",
       "    </tr>\n",
       "    <tr>\n",
       "      <th>491</th>\n",
       "      <td>buy an online mattress from casper etc return ...</td>\n",
       "      <td>0</td>\n",
       "      <td>0</td>\n",
       "    </tr>\n",
       "    <tr>\n",
       "      <th>748</th>\n",
       "      <td>no matter if you like the person or not always...</td>\n",
       "      <td>1</td>\n",
       "      <td>0</td>\n",
       "    </tr>\n",
       "    <tr>\n",
       "      <th>538</th>\n",
       "      <td>never send an email when youre in a heightened...</td>\n",
       "      <td>1</td>\n",
       "      <td>1</td>\n",
       "    </tr>\n",
       "    <tr>\n",
       "      <th>757</th>\n",
       "      <td>keep your old visa gift cards if you want to s...</td>\n",
       "      <td>0</td>\n",
       "      <td>0</td>\n",
       "    </tr>\n",
       "  </tbody>\n",
       "</table>\n",
       "</div>"
      ],
      "text/plain": [
       "                                                  post  target  predictions\n",
       "309  if youre a new alcoholic or in the process of ...       0            0\n",
       "491  buy an online mattress from casper etc return ...       0            0\n",
       "748  no matter if you like the person or not always...       1            0\n",
       "538  never send an email when youre in a heightened...       1            1\n",
       "757  keep your old visa gift cards if you want to s...       0            0"
      ]
     },
     "execution_count": 46,
     "metadata": {},
     "output_type": "execute_result"
    }
   ],
   "source": [
    "predictions_3 = gs_3.predict(X_test)\n",
    "\n",
    "test_pred_3 = pd.DataFrame()\n",
    "test_pred_3[\"post\"] = X_test\n",
    "test_pred_3[\"target\"] = y_test\n",
    "test_pred_3[\"predictions\"] = predictions_3\n",
    "test_pred_3.head()"
   ]
  },
  {
   "cell_type": "code",
   "execution_count": 47,
   "metadata": {},
   "outputs": [],
   "source": [
    "cvect_1 = CountVectorizer(stop_words=\"english\", ngram_range=(1,1))\n",
    "cvect_1.fit(X_train)\n",
    "X_train_cv = cvect_1.transform(X_train)\n",
    "X_test_cv = cvect_1.transform(X_test)"
   ]
  },
  {
   "cell_type": "code",
   "execution_count": 48,
   "metadata": {},
   "outputs": [
    {
     "data": {
      "text/html": [
       "<div>\n",
       "<style scoped>\n",
       "    .dataframe tbody tr th:only-of-type {\n",
       "        vertical-align: middle;\n",
       "    }\n",
       "\n",
       "    .dataframe tbody tr th {\n",
       "        vertical-align: top;\n",
       "    }\n",
       "\n",
       "    .dataframe thead th {\n",
       "        text-align: right;\n",
       "    }\n",
       "</style>\n",
       "<table border=\"1\" class=\"dataframe\">\n",
       "  <thead>\n",
       "    <tr style=\"text-align: right;\">\n",
       "      <th></th>\n",
       "      <th>010101</th>\n",
       "      <th>03</th>\n",
       "      <th>0906</th>\n",
       "      <th>099</th>\n",
       "      <th>10</th>\n",
       "      <th>100</th>\n",
       "      <th>1000</th>\n",
       "      <th>1000000</th>\n",
       "      <th>100000yr</th>\n",
       "      <th>10001</th>\n",
       "      <th>...</th>\n",
       "      <th>zero</th>\n",
       "      <th>zerofuckingdown</th>\n",
       "      <th>zika</th>\n",
       "      <th>zip</th>\n",
       "      <th>ziploc</th>\n",
       "      <th>ziplock</th>\n",
       "      <th>zippo</th>\n",
       "      <th>zone</th>\n",
       "      <th>zoos</th>\n",
       "      <th>zuckerberg</th>\n",
       "    </tr>\n",
       "  </thead>\n",
       "  <tbody>\n",
       "    <tr>\n",
       "      <th>0</th>\n",
       "      <td>0</td>\n",
       "      <td>0</td>\n",
       "      <td>0</td>\n",
       "      <td>0</td>\n",
       "      <td>0</td>\n",
       "      <td>0</td>\n",
       "      <td>0</td>\n",
       "      <td>0</td>\n",
       "      <td>0</td>\n",
       "      <td>0</td>\n",
       "      <td>...</td>\n",
       "      <td>0</td>\n",
       "      <td>0</td>\n",
       "      <td>0</td>\n",
       "      <td>0</td>\n",
       "      <td>0</td>\n",
       "      <td>0</td>\n",
       "      <td>0</td>\n",
       "      <td>0</td>\n",
       "      <td>0</td>\n",
       "      <td>0</td>\n",
       "    </tr>\n",
       "    <tr>\n",
       "      <th>1</th>\n",
       "      <td>0</td>\n",
       "      <td>0</td>\n",
       "      <td>0</td>\n",
       "      <td>0</td>\n",
       "      <td>0</td>\n",
       "      <td>0</td>\n",
       "      <td>0</td>\n",
       "      <td>0</td>\n",
       "      <td>0</td>\n",
       "      <td>0</td>\n",
       "      <td>...</td>\n",
       "      <td>0</td>\n",
       "      <td>0</td>\n",
       "      <td>0</td>\n",
       "      <td>0</td>\n",
       "      <td>0</td>\n",
       "      <td>0</td>\n",
       "      <td>0</td>\n",
       "      <td>0</td>\n",
       "      <td>0</td>\n",
       "      <td>0</td>\n",
       "    </tr>\n",
       "    <tr>\n",
       "      <th>2</th>\n",
       "      <td>0</td>\n",
       "      <td>0</td>\n",
       "      <td>0</td>\n",
       "      <td>0</td>\n",
       "      <td>0</td>\n",
       "      <td>0</td>\n",
       "      <td>0</td>\n",
       "      <td>0</td>\n",
       "      <td>0</td>\n",
       "      <td>0</td>\n",
       "      <td>...</td>\n",
       "      <td>0</td>\n",
       "      <td>0</td>\n",
       "      <td>0</td>\n",
       "      <td>0</td>\n",
       "      <td>0</td>\n",
       "      <td>0</td>\n",
       "      <td>0</td>\n",
       "      <td>0</td>\n",
       "      <td>0</td>\n",
       "      <td>0</td>\n",
       "    </tr>\n",
       "    <tr>\n",
       "      <th>3</th>\n",
       "      <td>0</td>\n",
       "      <td>0</td>\n",
       "      <td>0</td>\n",
       "      <td>0</td>\n",
       "      <td>0</td>\n",
       "      <td>0</td>\n",
       "      <td>0</td>\n",
       "      <td>0</td>\n",
       "      <td>0</td>\n",
       "      <td>0</td>\n",
       "      <td>...</td>\n",
       "      <td>0</td>\n",
       "      <td>0</td>\n",
       "      <td>0</td>\n",
       "      <td>0</td>\n",
       "      <td>0</td>\n",
       "      <td>0</td>\n",
       "      <td>0</td>\n",
       "      <td>0</td>\n",
       "      <td>0</td>\n",
       "      <td>0</td>\n",
       "    </tr>\n",
       "    <tr>\n",
       "      <th>4</th>\n",
       "      <td>0</td>\n",
       "      <td>0</td>\n",
       "      <td>0</td>\n",
       "      <td>0</td>\n",
       "      <td>1</td>\n",
       "      <td>0</td>\n",
       "      <td>0</td>\n",
       "      <td>0</td>\n",
       "      <td>0</td>\n",
       "      <td>0</td>\n",
       "      <td>...</td>\n",
       "      <td>0</td>\n",
       "      <td>0</td>\n",
       "      <td>0</td>\n",
       "      <td>2</td>\n",
       "      <td>0</td>\n",
       "      <td>0</td>\n",
       "      <td>0</td>\n",
       "      <td>0</td>\n",
       "      <td>0</td>\n",
       "      <td>0</td>\n",
       "    </tr>\n",
       "  </tbody>\n",
       "</table>\n",
       "<p>5 rows × 8698 columns</p>\n",
       "</div>"
      ],
      "text/plain": [
       "   010101  03  0906  099  10  100  1000  1000000  100000yr  10001     ...      \\\n",
       "0       0   0     0    0   0    0     0        0         0      0     ...       \n",
       "1       0   0     0    0   0    0     0        0         0      0     ...       \n",
       "2       0   0     0    0   0    0     0        0         0      0     ...       \n",
       "3       0   0     0    0   0    0     0        0         0      0     ...       \n",
       "4       0   0     0    0   1    0     0        0         0      0     ...       \n",
       "\n",
       "   zero  zerofuckingdown  zika  zip  ziploc  ziplock  zippo  zone  zoos  \\\n",
       "0     0                0     0    0       0        0      0     0     0   \n",
       "1     0                0     0    0       0        0      0     0     0   \n",
       "2     0                0     0    0       0        0      0     0     0   \n",
       "3     0                0     0    0       0        0      0     0     0   \n",
       "4     0                0     0    2       0        0      0     0     0   \n",
       "\n",
       "   zuckerberg  \n",
       "0           0  \n",
       "1           0  \n",
       "2           0  \n",
       "3           0  \n",
       "4           0  \n",
       "\n",
       "[5 rows x 8698 columns]"
      ]
     },
     "execution_count": 48,
     "metadata": {},
     "output_type": "execute_result"
    }
   ],
   "source": [
    "pd.DataFrame(X_train_cv.todense(), columns=cvect_1.get_feature_names()).head()"
   ]
  },
  {
   "cell_type": "code",
   "execution_count": 49,
   "metadata": {},
   "outputs": [
    {
     "data": {
      "text/plain": [
       "0.7639405204460966"
      ]
     },
     "execution_count": 49,
     "metadata": {},
     "output_type": "execute_result"
    }
   ],
   "source": [
    "logreg_1 = LogisticRegression(C=0.5, penalty=\"l2\")\n",
    "logreg_1.fit(X_train_cv, y_train)\n",
    "logreg_1.score(X_test_cv, y_test)"
   ]
  },
  {
   "cell_type": "code",
   "execution_count": 50,
   "metadata": {},
   "outputs": [
    {
     "data": {
      "text/html": [
       "<div>\n",
       "<style scoped>\n",
       "    .dataframe tbody tr th:only-of-type {\n",
       "        vertical-align: middle;\n",
       "    }\n",
       "\n",
       "    .dataframe tbody tr th {\n",
       "        vertical-align: top;\n",
       "    }\n",
       "\n",
       "    .dataframe thead th {\n",
       "        text-align: right;\n",
       "    }\n",
       "</style>\n",
       "<table border=\"1\" class=\"dataframe\">\n",
       "  <thead>\n",
       "    <tr style=\"text-align: right;\">\n",
       "      <th></th>\n",
       "      <th>word</th>\n",
       "      <th>coef_values</th>\n",
       "      <th>abs_values</th>\n",
       "    </tr>\n",
       "  </thead>\n",
       "  <tbody>\n",
       "    <tr>\n",
       "      <th>2514</th>\n",
       "      <td>edit</td>\n",
       "      <td>1.413936</td>\n",
       "      <td>1.413936</td>\n",
       "    </tr>\n",
       "    <tr>\n",
       "      <th>7691</th>\n",
       "      <td>thank</td>\n",
       "      <td>0.961256</td>\n",
       "      <td>0.961256</td>\n",
       "    </tr>\n",
       "    <tr>\n",
       "      <th>8408</th>\n",
       "      <td>want</td>\n",
       "      <td>-0.938574</td>\n",
       "      <td>0.938574</td>\n",
       "    </tr>\n",
       "    <tr>\n",
       "      <th>4727</th>\n",
       "      <td>means</td>\n",
       "      <td>0.814322</td>\n",
       "      <td>0.814322</td>\n",
       "    </tr>\n",
       "    <tr>\n",
       "      <th>4723</th>\n",
       "      <td>mean</td>\n",
       "      <td>0.785624</td>\n",
       "      <td>0.785624</td>\n",
       "    </tr>\n",
       "  </tbody>\n",
       "</table>\n",
       "</div>"
      ],
      "text/plain": [
       "       word  coef_values  abs_values\n",
       "2514   edit     1.413936    1.413936\n",
       "7691  thank     0.961256    0.961256\n",
       "8408   want    -0.938574    0.938574\n",
       "4727  means     0.814322    0.814322\n",
       "4723   mean     0.785624    0.785624"
      ]
     },
     "execution_count": 50,
     "metadata": {},
     "output_type": "execute_result"
    }
   ],
   "source": [
    "#For visibility into best predictors\n",
    "coefs_df = pd.DataFrame({'word': cvect_1.get_feature_names(), 'coef_values': logreg_1.coef_[0]})\n",
    "\n",
    "coefs_df[\"abs_values\"] = coefs_df[\"coef_values\"].abs()\n",
    "coefs_df.sort_values(\"abs_values\", ascending = False).head()"
   ]
  },
  {
   "cell_type": "code",
   "execution_count": 51,
   "metadata": {},
   "outputs": [
    {
     "data": {
      "text/html": [
       "<div>\n",
       "<style scoped>\n",
       "    .dataframe tbody tr th:only-of-type {\n",
       "        vertical-align: middle;\n",
       "    }\n",
       "\n",
       "    .dataframe tbody tr th {\n",
       "        vertical-align: top;\n",
       "    }\n",
       "\n",
       "    .dataframe thead th {\n",
       "        text-align: right;\n",
       "    }\n",
       "</style>\n",
       "<table border=\"1\" class=\"dataframe\">\n",
       "  <thead>\n",
       "    <tr style=\"text-align: right;\">\n",
       "      <th></th>\n",
       "      <th>Predicted Unethical</th>\n",
       "      <th>Predicted ProTip</th>\n",
       "    </tr>\n",
       "  </thead>\n",
       "  <tbody>\n",
       "    <tr>\n",
       "      <th>Actual Unethical</th>\n",
       "      <td>216</td>\n",
       "      <td>58</td>\n",
       "    </tr>\n",
       "    <tr>\n",
       "      <th>Actual ProTip</th>\n",
       "      <td>76</td>\n",
       "      <td>188</td>\n",
       "    </tr>\n",
       "  </tbody>\n",
       "</table>\n",
       "</div>"
      ],
      "text/plain": [
       "                  Predicted Unethical  Predicted ProTip\n",
       "Actual Unethical                  216                58\n",
       "Actual ProTip                      76               188"
      ]
     },
     "execution_count": 51,
     "metadata": {},
     "output_type": "execute_result"
    }
   ],
   "source": [
    "#Confusion Matrix\n",
    "cm3 = confusion_matrix(test_pred_3[\"target\"], test_pred_3[\"predictions\"])\n",
    "\n",
    "cm3_df = pd.DataFrame(cm3, columns = [\"Predicted Unethical\", \"Predicted ProTip\"], index = [\"Actual Unethical\", \"Actual ProTip\"])\n",
    "cm3_df"
   ]
  },
  {
   "cell_type": "markdown",
   "metadata": {},
   "source": [
    "#### Model 4 - TF-IDF Vectorizer + Logistic Regression"
   ]
  },
  {
   "cell_type": "code",
   "execution_count": 52,
   "metadata": {},
   "outputs": [
    {
     "name": "stdout",
     "output_type": "stream",
     "text": [
      "{'logreg__C': 0.5, 'logreg__penalty': 'l2', 'tvect__max_df': 1.0, 'tvect__ngram_range': (1, 2)}\n",
      "Train Score 0.7617529880478088\n",
      "Test Score 0.7695167286245354\n"
     ]
    }
   ],
   "source": [
    "pipe_4 = Pipeline([\n",
    "    (\"tvect\", tvect),\n",
    "    (\"logreg\", logreg)\n",
    "])\n",
    "\n",
    "params = {\n",
    "    \"tvect__ngram_range\" : [(1,1), (1,2), (1,3), (1,4)],\n",
    "    \"tvect__max_df\" : [1.0, 0.9, 0.8],\n",
    "    \"logreg__penalty\" : [\"l1\", \"l2\"],\n",
    "    \"logreg__C\" : [0.1, 0.5, 1, 5, 10, 15]\n",
    "    \n",
    "}\n",
    "\n",
    "gs_4 = GridSearchCV(pipe_4, param_grid=params)\n",
    "gs_4.fit(X_train, y_train)\n",
    "\n",
    "print(gs_4.best_params_)\n",
    "print(\"Train Score\", gs_4.best_score_)\n",
    "print(\"Test Score\", gs_4.score(X_test, y_test))"
   ]
  },
  {
   "cell_type": "code",
   "execution_count": 53,
   "metadata": {},
   "outputs": [
    {
     "data": {
      "text/plain": [
       "array([[0.50838851, 0.49161149],\n",
       "       [0.58976662, 0.41023338],\n",
       "       [0.42631326, 0.57368674],\n",
       "       [0.42789398, 0.57210602],\n",
       "       [0.64663358, 0.35336642]])"
      ]
     },
     "execution_count": 53,
     "metadata": {},
     "output_type": "execute_result"
    }
   ],
   "source": [
    "gs_4.predict_proba(X_test)[:5]"
   ]
  },
  {
   "cell_type": "code",
   "execution_count": 54,
   "metadata": {},
   "outputs": [
    {
     "data": {
      "text/html": [
       "<div>\n",
       "<style scoped>\n",
       "    .dataframe tbody tr th:only-of-type {\n",
       "        vertical-align: middle;\n",
       "    }\n",
       "\n",
       "    .dataframe tbody tr th {\n",
       "        vertical-align: top;\n",
       "    }\n",
       "\n",
       "    .dataframe thead th {\n",
       "        text-align: right;\n",
       "    }\n",
       "</style>\n",
       "<table border=\"1\" class=\"dataframe\">\n",
       "  <thead>\n",
       "    <tr style=\"text-align: right;\">\n",
       "      <th></th>\n",
       "      <th>post</th>\n",
       "      <th>target</th>\n",
       "      <th>predictions</th>\n",
       "    </tr>\n",
       "  </thead>\n",
       "  <tbody>\n",
       "    <tr>\n",
       "      <th>309</th>\n",
       "      <td>if youre a new alcoholic or in the process of ...</td>\n",
       "      <td>0</td>\n",
       "      <td>0</td>\n",
       "    </tr>\n",
       "    <tr>\n",
       "      <th>491</th>\n",
       "      <td>buy an online mattress from casper etc return ...</td>\n",
       "      <td>0</td>\n",
       "      <td>0</td>\n",
       "    </tr>\n",
       "    <tr>\n",
       "      <th>748</th>\n",
       "      <td>no matter if you like the person or not always...</td>\n",
       "      <td>1</td>\n",
       "      <td>1</td>\n",
       "    </tr>\n",
       "    <tr>\n",
       "      <th>538</th>\n",
       "      <td>never send an email when youre in a heightened...</td>\n",
       "      <td>1</td>\n",
       "      <td>1</td>\n",
       "    </tr>\n",
       "    <tr>\n",
       "      <th>757</th>\n",
       "      <td>keep your old visa gift cards if you want to s...</td>\n",
       "      <td>0</td>\n",
       "      <td>0</td>\n",
       "    </tr>\n",
       "  </tbody>\n",
       "</table>\n",
       "</div>"
      ],
      "text/plain": [
       "                                                  post  target  predictions\n",
       "309  if youre a new alcoholic or in the process of ...       0            0\n",
       "491  buy an online mattress from casper etc return ...       0            0\n",
       "748  no matter if you like the person or not always...       1            1\n",
       "538  never send an email when youre in a heightened...       1            1\n",
       "757  keep your old visa gift cards if you want to s...       0            0"
      ]
     },
     "execution_count": 54,
     "metadata": {},
     "output_type": "execute_result"
    }
   ],
   "source": [
    "predictions_4 = gs_4.predict(X_test)\n",
    "\n",
    "test_pred_4 = pd.DataFrame()\n",
    "test_pred_4[\"post\"] = X_test\n",
    "test_pred_4[\"target\"] = y_test\n",
    "test_pred_4[\"predictions\"] = predictions_4\n",
    "test_pred_4.head()"
   ]
  },
  {
   "cell_type": "code",
   "execution_count": 55,
   "metadata": {},
   "outputs": [],
   "source": [
    "tvect_1 = TfidfVectorizer(stop_words=\"english\", ngram_range=(1,2))\n",
    "tvect_1.fit(X_train)\n",
    "X_train_tv = tvect_1.transform(X_train)\n",
    "X_test_tv = tvect_1.transform(X_test)"
   ]
  },
  {
   "cell_type": "code",
   "execution_count": 56,
   "metadata": {},
   "outputs": [
    {
     "data": {
      "text/html": [
       "<div>\n",
       "<style scoped>\n",
       "    .dataframe tbody tr th:only-of-type {\n",
       "        vertical-align: middle;\n",
       "    }\n",
       "\n",
       "    .dataframe tbody tr th {\n",
       "        vertical-align: top;\n",
       "    }\n",
       "\n",
       "    .dataframe thead th {\n",
       "        text-align: right;\n",
       "    }\n",
       "</style>\n",
       "<table border=\"1\" class=\"dataframe\">\n",
       "  <thead>\n",
       "    <tr style=\"text-align: right;\">\n",
       "      <th></th>\n",
       "      <th>010101</th>\n",
       "      <th>010101 99</th>\n",
       "      <th>03</th>\n",
       "      <th>03 months</th>\n",
       "      <th>0906</th>\n",
       "      <th>0906 number</th>\n",
       "      <th>099</th>\n",
       "      <th>099 ice</th>\n",
       "      <th>10</th>\n",
       "      <th>10 100</th>\n",
       "      <th>...</th>\n",
       "      <th>zippo</th>\n",
       "      <th>zippo fluid</th>\n",
       "      <th>zone</th>\n",
       "      <th>zone does</th>\n",
       "      <th>zone everyday</th>\n",
       "      <th>zone temperature</th>\n",
       "      <th>zoos</th>\n",
       "      <th>zoos theaters</th>\n",
       "      <th>zuckerberg</th>\n",
       "      <th>zuckerberg uses</th>\n",
       "    </tr>\n",
       "  </thead>\n",
       "  <tbody>\n",
       "    <tr>\n",
       "      <th>0</th>\n",
       "      <td>0.0</td>\n",
       "      <td>0.0</td>\n",
       "      <td>0.0</td>\n",
       "      <td>0.0</td>\n",
       "      <td>0.0</td>\n",
       "      <td>0.0</td>\n",
       "      <td>0.0</td>\n",
       "      <td>0.0</td>\n",
       "      <td>0.000000</td>\n",
       "      <td>0.0</td>\n",
       "      <td>...</td>\n",
       "      <td>0.0</td>\n",
       "      <td>0.0</td>\n",
       "      <td>0.0</td>\n",
       "      <td>0.0</td>\n",
       "      <td>0.0</td>\n",
       "      <td>0.0</td>\n",
       "      <td>0.0</td>\n",
       "      <td>0.0</td>\n",
       "      <td>0.0</td>\n",
       "      <td>0.0</td>\n",
       "    </tr>\n",
       "    <tr>\n",
       "      <th>1</th>\n",
       "      <td>0.0</td>\n",
       "      <td>0.0</td>\n",
       "      <td>0.0</td>\n",
       "      <td>0.0</td>\n",
       "      <td>0.0</td>\n",
       "      <td>0.0</td>\n",
       "      <td>0.0</td>\n",
       "      <td>0.0</td>\n",
       "      <td>0.000000</td>\n",
       "      <td>0.0</td>\n",
       "      <td>...</td>\n",
       "      <td>0.0</td>\n",
       "      <td>0.0</td>\n",
       "      <td>0.0</td>\n",
       "      <td>0.0</td>\n",
       "      <td>0.0</td>\n",
       "      <td>0.0</td>\n",
       "      <td>0.0</td>\n",
       "      <td>0.0</td>\n",
       "      <td>0.0</td>\n",
       "      <td>0.0</td>\n",
       "    </tr>\n",
       "    <tr>\n",
       "      <th>2</th>\n",
       "      <td>0.0</td>\n",
       "      <td>0.0</td>\n",
       "      <td>0.0</td>\n",
       "      <td>0.0</td>\n",
       "      <td>0.0</td>\n",
       "      <td>0.0</td>\n",
       "      <td>0.0</td>\n",
       "      <td>0.0</td>\n",
       "      <td>0.000000</td>\n",
       "      <td>0.0</td>\n",
       "      <td>...</td>\n",
       "      <td>0.0</td>\n",
       "      <td>0.0</td>\n",
       "      <td>0.0</td>\n",
       "      <td>0.0</td>\n",
       "      <td>0.0</td>\n",
       "      <td>0.0</td>\n",
       "      <td>0.0</td>\n",
       "      <td>0.0</td>\n",
       "      <td>0.0</td>\n",
       "      <td>0.0</td>\n",
       "    </tr>\n",
       "    <tr>\n",
       "      <th>3</th>\n",
       "      <td>0.0</td>\n",
       "      <td>0.0</td>\n",
       "      <td>0.0</td>\n",
       "      <td>0.0</td>\n",
       "      <td>0.0</td>\n",
       "      <td>0.0</td>\n",
       "      <td>0.0</td>\n",
       "      <td>0.0</td>\n",
       "      <td>0.000000</td>\n",
       "      <td>0.0</td>\n",
       "      <td>...</td>\n",
       "      <td>0.0</td>\n",
       "      <td>0.0</td>\n",
       "      <td>0.0</td>\n",
       "      <td>0.0</td>\n",
       "      <td>0.0</td>\n",
       "      <td>0.0</td>\n",
       "      <td>0.0</td>\n",
       "      <td>0.0</td>\n",
       "      <td>0.0</td>\n",
       "      <td>0.0</td>\n",
       "    </tr>\n",
       "    <tr>\n",
       "      <th>4</th>\n",
       "      <td>0.0</td>\n",
       "      <td>0.0</td>\n",
       "      <td>0.0</td>\n",
       "      <td>0.0</td>\n",
       "      <td>0.0</td>\n",
       "      <td>0.0</td>\n",
       "      <td>0.0</td>\n",
       "      <td>0.0</td>\n",
       "      <td>0.020914</td>\n",
       "      <td>0.0</td>\n",
       "      <td>...</td>\n",
       "      <td>0.0</td>\n",
       "      <td>0.0</td>\n",
       "      <td>0.0</td>\n",
       "      <td>0.0</td>\n",
       "      <td>0.0</td>\n",
       "      <td>0.0</td>\n",
       "      <td>0.0</td>\n",
       "      <td>0.0</td>\n",
       "      <td>0.0</td>\n",
       "      <td>0.0</td>\n",
       "    </tr>\n",
       "  </tbody>\n",
       "</table>\n",
       "<p>5 rows × 46213 columns</p>\n",
       "</div>"
      ],
      "text/plain": [
       "   010101  010101 99   03  03 months  0906  0906 number  099  099 ice  \\\n",
       "0     0.0        0.0  0.0        0.0   0.0          0.0  0.0      0.0   \n",
       "1     0.0        0.0  0.0        0.0   0.0          0.0  0.0      0.0   \n",
       "2     0.0        0.0  0.0        0.0   0.0          0.0  0.0      0.0   \n",
       "3     0.0        0.0  0.0        0.0   0.0          0.0  0.0      0.0   \n",
       "4     0.0        0.0  0.0        0.0   0.0          0.0  0.0      0.0   \n",
       "\n",
       "         10  10 100       ...         zippo  zippo fluid  zone  zone does  \\\n",
       "0  0.000000     0.0       ...           0.0          0.0   0.0        0.0   \n",
       "1  0.000000     0.0       ...           0.0          0.0   0.0        0.0   \n",
       "2  0.000000     0.0       ...           0.0          0.0   0.0        0.0   \n",
       "3  0.000000     0.0       ...           0.0          0.0   0.0        0.0   \n",
       "4  0.020914     0.0       ...           0.0          0.0   0.0        0.0   \n",
       "\n",
       "   zone everyday  zone temperature  zoos  zoos theaters  zuckerberg  \\\n",
       "0            0.0               0.0   0.0            0.0         0.0   \n",
       "1            0.0               0.0   0.0            0.0         0.0   \n",
       "2            0.0               0.0   0.0            0.0         0.0   \n",
       "3            0.0               0.0   0.0            0.0         0.0   \n",
       "4            0.0               0.0   0.0            0.0         0.0   \n",
       "\n",
       "   zuckerberg uses  \n",
       "0              0.0  \n",
       "1              0.0  \n",
       "2              0.0  \n",
       "3              0.0  \n",
       "4              0.0  \n",
       "\n",
       "[5 rows x 46213 columns]"
      ]
     },
     "execution_count": 56,
     "metadata": {},
     "output_type": "execute_result"
    }
   ],
   "source": [
    "pd.DataFrame(X_train_tv.todense(), columns=tvect_1.get_feature_names()).head()"
   ]
  },
  {
   "cell_type": "code",
   "execution_count": 57,
   "metadata": {},
   "outputs": [
    {
     "data": {
      "text/plain": [
       "0.7732342007434945"
      ]
     },
     "execution_count": 57,
     "metadata": {},
     "output_type": "execute_result"
    }
   ],
   "source": [
    "logreg_1 = LogisticRegression(C=5, penalty=\"l2\")\n",
    "logreg_1.fit(X_train_tv, y_train)\n",
    "logreg_1.score(X_test_tv, y_test)"
   ]
  },
  {
   "cell_type": "code",
   "execution_count": 58,
   "metadata": {},
   "outputs": [
    {
     "data": {
      "text/html": [
       "<div>\n",
       "<style scoped>\n",
       "    .dataframe tbody tr th:only-of-type {\n",
       "        vertical-align: middle;\n",
       "    }\n",
       "\n",
       "    .dataframe tbody tr th {\n",
       "        vertical-align: top;\n",
       "    }\n",
       "\n",
       "    .dataframe thead th {\n",
       "        text-align: right;\n",
       "    }\n",
       "</style>\n",
       "<table border=\"1\" class=\"dataframe\">\n",
       "  <thead>\n",
       "    <tr style=\"text-align: right;\">\n",
       "      <th></th>\n",
       "      <th>word</th>\n",
       "      <th>coef_values</th>\n",
       "      <th>abs_values</th>\n",
       "    </tr>\n",
       "  </thead>\n",
       "  <tbody>\n",
       "    <tr>\n",
       "      <th>12079</th>\n",
       "      <td>edit</td>\n",
       "      <td>5.689084</td>\n",
       "      <td>5.689084</td>\n",
       "    </tr>\n",
       "    <tr>\n",
       "      <th>43700</th>\n",
       "      <td>want</td>\n",
       "      <td>-3.863857</td>\n",
       "      <td>3.863857</td>\n",
       "    </tr>\n",
       "    <tr>\n",
       "      <th>39329</th>\n",
       "      <td>tell</td>\n",
       "      <td>-3.187681</td>\n",
       "      <td>3.187681</td>\n",
       "    </tr>\n",
       "    <tr>\n",
       "      <th>21285</th>\n",
       "      <td>know</td>\n",
       "      <td>3.026860</td>\n",
       "      <td>3.026860</td>\n",
       "    </tr>\n",
       "    <tr>\n",
       "      <th>5117</th>\n",
       "      <td>buy</td>\n",
       "      <td>-2.985893</td>\n",
       "      <td>2.985893</td>\n",
       "    </tr>\n",
       "  </tbody>\n",
       "</table>\n",
       "</div>"
      ],
      "text/plain": [
       "       word  coef_values  abs_values\n",
       "12079  edit     5.689084    5.689084\n",
       "43700  want    -3.863857    3.863857\n",
       "39329  tell    -3.187681    3.187681\n",
       "21285  know     3.026860    3.026860\n",
       "5117    buy    -2.985893    2.985893"
      ]
     },
     "execution_count": 58,
     "metadata": {},
     "output_type": "execute_result"
    }
   ],
   "source": [
    "coefs_df_1 = pd.DataFrame({'word': tvect_1.get_feature_names(), 'coef_values': logreg_1.coef_[0]})\n",
    "\n",
    "coefs_df_1[\"abs_values\"] = coefs_df_1[\"coef_values\"].abs()\n",
    "coefs_df_1.sort_values(\"abs_values\", ascending = False).head()"
   ]
  },
  {
   "cell_type": "code",
   "execution_count": 59,
   "metadata": {},
   "outputs": [
    {
     "data": {
      "text/html": [
       "<div>\n",
       "<style scoped>\n",
       "    .dataframe tbody tr th:only-of-type {\n",
       "        vertical-align: middle;\n",
       "    }\n",
       "\n",
       "    .dataframe tbody tr th {\n",
       "        vertical-align: top;\n",
       "    }\n",
       "\n",
       "    .dataframe thead th {\n",
       "        text-align: right;\n",
       "    }\n",
       "</style>\n",
       "<table border=\"1\" class=\"dataframe\">\n",
       "  <thead>\n",
       "    <tr style=\"text-align: right;\">\n",
       "      <th></th>\n",
       "      <th>Predicted Unethical</th>\n",
       "      <th>Predicted ProTip</th>\n",
       "    </tr>\n",
       "  </thead>\n",
       "  <tbody>\n",
       "    <tr>\n",
       "      <th>Actual Unethical</th>\n",
       "      <td>202</td>\n",
       "      <td>72</td>\n",
       "    </tr>\n",
       "    <tr>\n",
       "      <th>Actual ProTip</th>\n",
       "      <td>52</td>\n",
       "      <td>212</td>\n",
       "    </tr>\n",
       "  </tbody>\n",
       "</table>\n",
       "</div>"
      ],
      "text/plain": [
       "                  Predicted Unethical  Predicted ProTip\n",
       "Actual Unethical                  202                72\n",
       "Actual ProTip                      52               212"
      ]
     },
     "execution_count": 59,
     "metadata": {},
     "output_type": "execute_result"
    }
   ],
   "source": [
    "#Confusion Matrix\n",
    "cm4 = confusion_matrix(test_pred_4[\"target\"], test_pred_4[\"predictions\"])\n",
    "\n",
    "cm4_df = pd.DataFrame(cm4, columns = [\"Predicted Unethical\", \"Predicted ProTip\"], index = [\"Actual Unethical\", \"Actual ProTip\"])\n",
    "cm4_df"
   ]
  },
  {
   "cell_type": "markdown",
   "metadata": {},
   "source": [
    "#### Model 5 - CountVectorizer + Random Forest"
   ]
  },
  {
   "cell_type": "code",
   "execution_count": 60,
   "metadata": {},
   "outputs": [
    {
     "name": "stdout",
     "output_type": "stream",
     "text": [
      "{'cvect__max_df': 0.9, 'cvect__ngram_range': (1, 1), 'rf__max_depth': None, 'rf__n_estimators': 60}\n",
      "CrossValScore 0.7211155378486056\n",
      "Score 0.7490706319702602\n"
     ]
    }
   ],
   "source": [
    "pipe_5 = Pipeline([\n",
    "    (\"cvect\", cvect),\n",
    "    (\"rf\", rf)\n",
    "])\n",
    "\n",
    "params = {\n",
    "    \"cvect__ngram_range\" : [(1,1), (1,2), (1,3), (1,4)],\n",
    "    \"cvect__max_df\" : [1.0, 0.9, 0.8],\n",
    "    \"rf__max_depth\" : [5, 10, 20, None],\n",
    "    \"rf__n_estimators\" : [60, 80, 100, 120]\n",
    "    \n",
    "}\n",
    "\n",
    "gs_5 = GridSearchCV(pipe_5, param_grid=params)\n",
    "gs_5.fit(X_train, y_train)\n",
    "\n",
    "print(gs_5.best_params_)\n",
    "print(\"CrossValScore\", gs_5.best_score_)\n",
    "print(\"Score\", gs_5.score(X_test, y_test))"
   ]
  },
  {
   "cell_type": "code",
   "execution_count": 61,
   "metadata": {},
   "outputs": [
    {
     "data": {
      "text/plain": [
       "array([[0.63251835, 0.36748165],\n",
       "       [0.92243232, 0.07756768],\n",
       "       [0.53977924, 0.46022076],\n",
       "       [0.00704337, 0.99295663],\n",
       "       [0.98668656, 0.01331344]])"
      ]
     },
     "execution_count": 61,
     "metadata": {},
     "output_type": "execute_result"
    }
   ],
   "source": [
    "gs_3.predict_proba(X_test)[:5]"
   ]
  },
  {
   "cell_type": "code",
   "execution_count": 62,
   "metadata": {},
   "outputs": [
    {
     "data": {
      "text/html": [
       "<div>\n",
       "<style scoped>\n",
       "    .dataframe tbody tr th:only-of-type {\n",
       "        vertical-align: middle;\n",
       "    }\n",
       "\n",
       "    .dataframe tbody tr th {\n",
       "        vertical-align: top;\n",
       "    }\n",
       "\n",
       "    .dataframe thead th {\n",
       "        text-align: right;\n",
       "    }\n",
       "</style>\n",
       "<table border=\"1\" class=\"dataframe\">\n",
       "  <thead>\n",
       "    <tr style=\"text-align: right;\">\n",
       "      <th></th>\n",
       "      <th>post</th>\n",
       "      <th>target</th>\n",
       "      <th>predictions</th>\n",
       "    </tr>\n",
       "  </thead>\n",
       "  <tbody>\n",
       "    <tr>\n",
       "      <th>309</th>\n",
       "      <td>if youre a new alcoholic or in the process of ...</td>\n",
       "      <td>0</td>\n",
       "      <td>0</td>\n",
       "    </tr>\n",
       "    <tr>\n",
       "      <th>491</th>\n",
       "      <td>buy an online mattress from casper etc return ...</td>\n",
       "      <td>0</td>\n",
       "      <td>0</td>\n",
       "    </tr>\n",
       "    <tr>\n",
       "      <th>748</th>\n",
       "      <td>no matter if you like the person or not always...</td>\n",
       "      <td>1</td>\n",
       "      <td>0</td>\n",
       "    </tr>\n",
       "    <tr>\n",
       "      <th>538</th>\n",
       "      <td>never send an email when youre in a heightened...</td>\n",
       "      <td>1</td>\n",
       "      <td>1</td>\n",
       "    </tr>\n",
       "    <tr>\n",
       "      <th>757</th>\n",
       "      <td>keep your old visa gift cards if you want to s...</td>\n",
       "      <td>0</td>\n",
       "      <td>0</td>\n",
       "    </tr>\n",
       "  </tbody>\n",
       "</table>\n",
       "</div>"
      ],
      "text/plain": [
       "                                                  post  target  predictions\n",
       "309  if youre a new alcoholic or in the process of ...       0            0\n",
       "491  buy an online mattress from casper etc return ...       0            0\n",
       "748  no matter if you like the person or not always...       1            0\n",
       "538  never send an email when youre in a heightened...       1            1\n",
       "757  keep your old visa gift cards if you want to s...       0            0"
      ]
     },
     "execution_count": 62,
     "metadata": {},
     "output_type": "execute_result"
    }
   ],
   "source": [
    "predictions_5 = gs_3.predict(X_test)\n",
    "\n",
    "test_pred_5 = pd.DataFrame()\n",
    "test_pred_5[\"post\"] = X_test\n",
    "test_pred_5[\"target\"] = y_test\n",
    "test_pred_5[\"predictions\"] = predictions_5\n",
    "test_pred_5.head()"
   ]
  },
  {
   "cell_type": "code",
   "execution_count": 63,
   "metadata": {},
   "outputs": [
    {
     "data": {
      "text/html": [
       "<div>\n",
       "<style scoped>\n",
       "    .dataframe tbody tr th:only-of-type {\n",
       "        vertical-align: middle;\n",
       "    }\n",
       "\n",
       "    .dataframe tbody tr th {\n",
       "        vertical-align: top;\n",
       "    }\n",
       "\n",
       "    .dataframe thead th {\n",
       "        text-align: right;\n",
       "    }\n",
       "</style>\n",
       "<table border=\"1\" class=\"dataframe\">\n",
       "  <thead>\n",
       "    <tr style=\"text-align: right;\">\n",
       "      <th></th>\n",
       "      <th>Predicted Unethical</th>\n",
       "      <th>Predicted ProTip</th>\n",
       "    </tr>\n",
       "  </thead>\n",
       "  <tbody>\n",
       "    <tr>\n",
       "      <th>Actual Unethical</th>\n",
       "      <td>216</td>\n",
       "      <td>58</td>\n",
       "    </tr>\n",
       "    <tr>\n",
       "      <th>Actual ProTip</th>\n",
       "      <td>76</td>\n",
       "      <td>188</td>\n",
       "    </tr>\n",
       "  </tbody>\n",
       "</table>\n",
       "</div>"
      ],
      "text/plain": [
       "                  Predicted Unethical  Predicted ProTip\n",
       "Actual Unethical                  216                58\n",
       "Actual ProTip                      76               188"
      ]
     },
     "execution_count": 63,
     "metadata": {},
     "output_type": "execute_result"
    }
   ],
   "source": [
    "#Confusion Matrix\n",
    "cm5 = confusion_matrix(test_pred_5[\"target\"], test_pred_5[\"predictions\"])\n",
    "\n",
    "cm5_df = pd.DataFrame(cm5, columns = [\"Predicted Unethical\", \"Predicted ProTip\"], index = [\"Actual Unethical\", \"Actual ProTip\"])\n",
    "cm5_df"
   ]
  },
  {
   "cell_type": "markdown",
   "metadata": {},
   "source": [
    "#### Model 6 - TF-IDF Vectorizer + Random Forest"
   ]
  },
  {
   "cell_type": "code",
   "execution_count": 64,
   "metadata": {},
   "outputs": [
    {
     "name": "stdout",
     "output_type": "stream",
     "text": [
      "{'rf__max_depth': None, 'rf__n_estimators': 80, 'tvect__max_df': 0.7, 'tvect__ngram_range': (1, 1)}\n",
      "CrossValScore 0.7258964143426295\n",
      "Score 0.7527881040892194\n"
     ]
    }
   ],
   "source": [
    "pipe_6 = Pipeline([\n",
    "    (\"tvect\", tvect),\n",
    "    (\"rf\", rf)\n",
    "])\n",
    "\n",
    "params = {\n",
    "    \"tvect__ngram_range\" : [(1,1), (1,2), (1,3), (1,4)],\n",
    "    \"tvect__max_df\" : [1.0, 0.9, 0.8, 0.7],\n",
    "    \"rf__max_depth\" : [5, 10, 20, None],\n",
    "    \"rf__n_estimators\" : [20, 40, 60, 80]\n",
    "    \n",
    "}\n",
    "\n",
    "gs_6 = GridSearchCV(pipe_6, param_grid=params)\n",
    "gs_6.fit(X_train, y_train)\n",
    "\n",
    "print(gs_6.best_params_)\n",
    "print(\"CrossValScore\", gs_6.best_score_)\n",
    "print(\"Score\", gs_6.score(X_test, y_test))"
   ]
  },
  {
   "cell_type": "code",
   "execution_count": 65,
   "metadata": {},
   "outputs": [
    {
     "data": {
      "text/plain": [
       "array([[0.7875, 0.2125],\n",
       "       [0.8   , 0.2   ],\n",
       "       [0.45  , 0.55  ],\n",
       "       [0.1625, 0.8375],\n",
       "       [0.85  , 0.15  ]])"
      ]
     },
     "execution_count": 65,
     "metadata": {},
     "output_type": "execute_result"
    }
   ],
   "source": [
    "gs_6.predict_proba(X_test)[:5]"
   ]
  },
  {
   "cell_type": "code",
   "execution_count": 66,
   "metadata": {},
   "outputs": [
    {
     "data": {
      "text/html": [
       "<div>\n",
       "<style scoped>\n",
       "    .dataframe tbody tr th:only-of-type {\n",
       "        vertical-align: middle;\n",
       "    }\n",
       "\n",
       "    .dataframe tbody tr th {\n",
       "        vertical-align: top;\n",
       "    }\n",
       "\n",
       "    .dataframe thead th {\n",
       "        text-align: right;\n",
       "    }\n",
       "</style>\n",
       "<table border=\"1\" class=\"dataframe\">\n",
       "  <thead>\n",
       "    <tr style=\"text-align: right;\">\n",
       "      <th></th>\n",
       "      <th>post</th>\n",
       "      <th>target</th>\n",
       "      <th>predictions</th>\n",
       "    </tr>\n",
       "  </thead>\n",
       "  <tbody>\n",
       "    <tr>\n",
       "      <th>309</th>\n",
       "      <td>if youre a new alcoholic or in the process of ...</td>\n",
       "      <td>0</td>\n",
       "      <td>0</td>\n",
       "    </tr>\n",
       "    <tr>\n",
       "      <th>491</th>\n",
       "      <td>buy an online mattress from casper etc return ...</td>\n",
       "      <td>0</td>\n",
       "      <td>0</td>\n",
       "    </tr>\n",
       "    <tr>\n",
       "      <th>748</th>\n",
       "      <td>no matter if you like the person or not always...</td>\n",
       "      <td>1</td>\n",
       "      <td>1</td>\n",
       "    </tr>\n",
       "    <tr>\n",
       "      <th>538</th>\n",
       "      <td>never send an email when youre in a heightened...</td>\n",
       "      <td>1</td>\n",
       "      <td>1</td>\n",
       "    </tr>\n",
       "    <tr>\n",
       "      <th>757</th>\n",
       "      <td>keep your old visa gift cards if you want to s...</td>\n",
       "      <td>0</td>\n",
       "      <td>0</td>\n",
       "    </tr>\n",
       "  </tbody>\n",
       "</table>\n",
       "</div>"
      ],
      "text/plain": [
       "                                                  post  target  predictions\n",
       "309  if youre a new alcoholic or in the process of ...       0            0\n",
       "491  buy an online mattress from casper etc return ...       0            0\n",
       "748  no matter if you like the person or not always...       1            1\n",
       "538  never send an email when youre in a heightened...       1            1\n",
       "757  keep your old visa gift cards if you want to s...       0            0"
      ]
     },
     "execution_count": 66,
     "metadata": {},
     "output_type": "execute_result"
    }
   ],
   "source": [
    "predictions_6 = gs_6.predict(X_test)\n",
    "\n",
    "test_pred_6 = pd.DataFrame()\n",
    "test_pred_6[\"post\"] = X_test\n",
    "test_pred_6[\"target\"] = y_test\n",
    "test_pred_6[\"predictions\"] = predictions_6\n",
    "test_pred_6.head()"
   ]
  },
  {
   "cell_type": "code",
   "execution_count": 67,
   "metadata": {},
   "outputs": [
    {
     "data": {
      "text/html": [
       "<div>\n",
       "<style scoped>\n",
       "    .dataframe tbody tr th:only-of-type {\n",
       "        vertical-align: middle;\n",
       "    }\n",
       "\n",
       "    .dataframe tbody tr th {\n",
       "        vertical-align: top;\n",
       "    }\n",
       "\n",
       "    .dataframe thead th {\n",
       "        text-align: right;\n",
       "    }\n",
       "</style>\n",
       "<table border=\"1\" class=\"dataframe\">\n",
       "  <thead>\n",
       "    <tr style=\"text-align: right;\">\n",
       "      <th></th>\n",
       "      <th>Predicted Unethical</th>\n",
       "      <th>Predicted ProTip</th>\n",
       "    </tr>\n",
       "  </thead>\n",
       "  <tbody>\n",
       "    <tr>\n",
       "      <th>Actual Unethical</th>\n",
       "      <td>234</td>\n",
       "      <td>40</td>\n",
       "    </tr>\n",
       "    <tr>\n",
       "      <th>Actual ProTip</th>\n",
       "      <td>93</td>\n",
       "      <td>171</td>\n",
       "    </tr>\n",
       "  </tbody>\n",
       "</table>\n",
       "</div>"
      ],
      "text/plain": [
       "                  Predicted Unethical  Predicted ProTip\n",
       "Actual Unethical                  234                40\n",
       "Actual ProTip                      93               171"
      ]
     },
     "execution_count": 67,
     "metadata": {},
     "output_type": "execute_result"
    }
   ],
   "source": [
    "#Confusion Matrix\n",
    "cm6 = confusion_matrix(test_pred_6[\"target\"], test_pred_6[\"predictions\"])\n",
    "\n",
    "cm6_df = pd.DataFrame(cm6, columns = [\"Predicted Unethical\", \"Predicted ProTip\"], index = [\"Actual Unethical\", \"Actual ProTip\"])\n",
    "cm6_df"
   ]
  },
  {
   "cell_type": "markdown",
   "metadata": {},
   "source": [
    "#### Model 7 - CountVectorizer + Extra Trees"
   ]
  },
  {
   "cell_type": "code",
   "execution_count": 68,
   "metadata": {},
   "outputs": [
    {
     "name": "stdout",
     "output_type": "stream",
     "text": [
      "{'cvect__max_df': 0.8, 'cvect__ngram_range': (1, 1), 'et__max_depth': None, 'et__n_estimators': 80}\n",
      "CrossValScore 0.7195219123505976\n",
      "Score 0.7602230483271375\n"
     ]
    }
   ],
   "source": [
    "pipe_7 = Pipeline([\n",
    "    (\"cvect\", cvect),\n",
    "    (\"et\", et)\n",
    "])\n",
    "\n",
    "params = {\n",
    "    \"cvect__ngram_range\" : [(1,1), (1,2), (1,3), (1,4)],\n",
    "    \"cvect__max_df\" : [1.0, 0.9, 0.8, 0.7],\n",
    "    \"et__max_depth\" : [5, 10, 20, None],\n",
    "    \"et__n_estimators\" : [40, 60, 80]\n",
    "    \n",
    "}\n",
    "\n",
    "gs_7 = GridSearchCV(pipe_7, param_grid=params)\n",
    "gs_7.fit(X_train, y_train)\n",
    "\n",
    "print(gs_7.best_params_)\n",
    "print(\"CrossValScore\", gs_7.best_score_)\n",
    "print(\"Score\", gs_7.score(X_test, y_test))"
   ]
  },
  {
   "cell_type": "code",
   "execution_count": 69,
   "metadata": {},
   "outputs": [
    {
     "data": {
      "text/plain": [
       "array([[0.6375, 0.3625],\n",
       "       [0.8625, 0.1375],\n",
       "       [0.3375, 0.6625],\n",
       "       [0.1375, 0.8625],\n",
       "       [0.9125, 0.0875]])"
      ]
     },
     "execution_count": 69,
     "metadata": {},
     "output_type": "execute_result"
    }
   ],
   "source": [
    "gs_7.predict_proba(X_test)[:5]"
   ]
  },
  {
   "cell_type": "code",
   "execution_count": 70,
   "metadata": {},
   "outputs": [
    {
     "data": {
      "text/html": [
       "<div>\n",
       "<style scoped>\n",
       "    .dataframe tbody tr th:only-of-type {\n",
       "        vertical-align: middle;\n",
       "    }\n",
       "\n",
       "    .dataframe tbody tr th {\n",
       "        vertical-align: top;\n",
       "    }\n",
       "\n",
       "    .dataframe thead th {\n",
       "        text-align: right;\n",
       "    }\n",
       "</style>\n",
       "<table border=\"1\" class=\"dataframe\">\n",
       "  <thead>\n",
       "    <tr style=\"text-align: right;\">\n",
       "      <th></th>\n",
       "      <th>post</th>\n",
       "      <th>target</th>\n",
       "      <th>predictions</th>\n",
       "    </tr>\n",
       "  </thead>\n",
       "  <tbody>\n",
       "    <tr>\n",
       "      <th>309</th>\n",
       "      <td>if youre a new alcoholic or in the process of ...</td>\n",
       "      <td>0</td>\n",
       "      <td>0</td>\n",
       "    </tr>\n",
       "    <tr>\n",
       "      <th>491</th>\n",
       "      <td>buy an online mattress from casper etc return ...</td>\n",
       "      <td>0</td>\n",
       "      <td>0</td>\n",
       "    </tr>\n",
       "    <tr>\n",
       "      <th>748</th>\n",
       "      <td>no matter if you like the person or not always...</td>\n",
       "      <td>1</td>\n",
       "      <td>1</td>\n",
       "    </tr>\n",
       "    <tr>\n",
       "      <th>538</th>\n",
       "      <td>never send an email when youre in a heightened...</td>\n",
       "      <td>1</td>\n",
       "      <td>1</td>\n",
       "    </tr>\n",
       "    <tr>\n",
       "      <th>757</th>\n",
       "      <td>keep your old visa gift cards if you want to s...</td>\n",
       "      <td>0</td>\n",
       "      <td>0</td>\n",
       "    </tr>\n",
       "  </tbody>\n",
       "</table>\n",
       "</div>"
      ],
      "text/plain": [
       "                                                  post  target  predictions\n",
       "309  if youre a new alcoholic or in the process of ...       0            0\n",
       "491  buy an online mattress from casper etc return ...       0            0\n",
       "748  no matter if you like the person or not always...       1            1\n",
       "538  never send an email when youre in a heightened...       1            1\n",
       "757  keep your old visa gift cards if you want to s...       0            0"
      ]
     },
     "execution_count": 70,
     "metadata": {},
     "output_type": "execute_result"
    }
   ],
   "source": [
    "predictions_7 = gs_7.predict(X_test)\n",
    "\n",
    "test_pred_7 = pd.DataFrame()\n",
    "test_pred_7[\"post\"] = X_test\n",
    "test_pred_7[\"target\"] = y_test\n",
    "test_pred_7[\"predictions\"] = predictions_7\n",
    "test_pred_7.head()"
   ]
  },
  {
   "cell_type": "code",
   "execution_count": 71,
   "metadata": {},
   "outputs": [
    {
     "data": {
      "text/html": [
       "<div>\n",
       "<style scoped>\n",
       "    .dataframe tbody tr th:only-of-type {\n",
       "        vertical-align: middle;\n",
       "    }\n",
       "\n",
       "    .dataframe tbody tr th {\n",
       "        vertical-align: top;\n",
       "    }\n",
       "\n",
       "    .dataframe thead th {\n",
       "        text-align: right;\n",
       "    }\n",
       "</style>\n",
       "<table border=\"1\" class=\"dataframe\">\n",
       "  <thead>\n",
       "    <tr style=\"text-align: right;\">\n",
       "      <th></th>\n",
       "      <th>Predicted Unethical</th>\n",
       "      <th>Predicted ProTip</th>\n",
       "    </tr>\n",
       "  </thead>\n",
       "  <tbody>\n",
       "    <tr>\n",
       "      <th>Actual Unethical</th>\n",
       "      <td>227</td>\n",
       "      <td>47</td>\n",
       "    </tr>\n",
       "    <tr>\n",
       "      <th>Actual ProTip</th>\n",
       "      <td>82</td>\n",
       "      <td>182</td>\n",
       "    </tr>\n",
       "  </tbody>\n",
       "</table>\n",
       "</div>"
      ],
      "text/plain": [
       "                  Predicted Unethical  Predicted ProTip\n",
       "Actual Unethical                  227                47\n",
       "Actual ProTip                      82               182"
      ]
     },
     "execution_count": 71,
     "metadata": {},
     "output_type": "execute_result"
    }
   ],
   "source": [
    "#Confusion Matrix\n",
    "cm7 = confusion_matrix(test_pred_7[\"target\"], test_pred_7[\"predictions\"])\n",
    "\n",
    "cm7_df = pd.DataFrame(cm7, columns = [\"Predicted Unethical\", \"Predicted ProTip\"], index = [\"Actual Unethical\", \"Actual ProTip\"])\n",
    "cm7_df"
   ]
  },
  {
   "cell_type": "markdown",
   "metadata": {},
   "source": [
    "#### Model 8 - TF-IDF Vectorizer + Extra Trees"
   ]
  },
  {
   "cell_type": "code",
   "execution_count": 72,
   "metadata": {},
   "outputs": [
    {
     "name": "stdout",
     "output_type": "stream",
     "text": [
      "{'et__max_depth': None, 'et__n_estimators': 120, 'tvect__max_df': 1.0, 'tvect__ngram_range': (1, 1)}\n",
      "CrossValScore 0.7274900398406374\n",
      "Score 0.7602230483271375\n"
     ]
    }
   ],
   "source": [
    "pipe_8 = Pipeline([\n",
    "    (\"tvect\", tvect),\n",
    "    (\"et\", et)\n",
    "])\n",
    "\n",
    "params = {\n",
    "    \"tvect__ngram_range\" : [(1,1), (1,2), (1,3), (1,4)],\n",
    "    \"tvect__max_df\" : [1.0, 0.9, 0.8],\n",
    "    \"et__max_depth\" : [5, 10, 20, None],\n",
    "    \"et__n_estimators\" : [80, 100, 120]\n",
    "    \n",
    "}\n",
    "\n",
    "gs_8 = GridSearchCV(pipe_8, param_grid=params)\n",
    "gs_8.fit(X_train, y_train)\n",
    "\n",
    "print(gs_8.best_params_)\n",
    "print(\"CrossValScore\", gs_8.best_score_)\n",
    "print(\"Score\", gs_8.score(X_test, y_test))"
   ]
  },
  {
   "cell_type": "code",
   "execution_count": 73,
   "metadata": {},
   "outputs": [
    {
     "data": {
      "text/plain": [
       "array([[0.74166667, 0.25833333],\n",
       "       [0.875     , 0.125     ],\n",
       "       [0.28333333, 0.71666667],\n",
       "       [0.29166667, 0.70833333],\n",
       "       [0.90833333, 0.09166667]])"
      ]
     },
     "execution_count": 73,
     "metadata": {},
     "output_type": "execute_result"
    }
   ],
   "source": [
    "gs_8.predict_proba(X_test)[:5]"
   ]
  },
  {
   "cell_type": "code",
   "execution_count": 74,
   "metadata": {},
   "outputs": [
    {
     "data": {
      "text/html": [
       "<div>\n",
       "<style scoped>\n",
       "    .dataframe tbody tr th:only-of-type {\n",
       "        vertical-align: middle;\n",
       "    }\n",
       "\n",
       "    .dataframe tbody tr th {\n",
       "        vertical-align: top;\n",
       "    }\n",
       "\n",
       "    .dataframe thead th {\n",
       "        text-align: right;\n",
       "    }\n",
       "</style>\n",
       "<table border=\"1\" class=\"dataframe\">\n",
       "  <thead>\n",
       "    <tr style=\"text-align: right;\">\n",
       "      <th></th>\n",
       "      <th>post</th>\n",
       "      <th>target</th>\n",
       "      <th>predictions</th>\n",
       "    </tr>\n",
       "  </thead>\n",
       "  <tbody>\n",
       "    <tr>\n",
       "      <th>309</th>\n",
       "      <td>if youre a new alcoholic or in the process of ...</td>\n",
       "      <td>0</td>\n",
       "      <td>0</td>\n",
       "    </tr>\n",
       "    <tr>\n",
       "      <th>491</th>\n",
       "      <td>buy an online mattress from casper etc return ...</td>\n",
       "      <td>0</td>\n",
       "      <td>0</td>\n",
       "    </tr>\n",
       "    <tr>\n",
       "      <th>748</th>\n",
       "      <td>no matter if you like the person or not always...</td>\n",
       "      <td>1</td>\n",
       "      <td>1</td>\n",
       "    </tr>\n",
       "    <tr>\n",
       "      <th>538</th>\n",
       "      <td>never send an email when youre in a heightened...</td>\n",
       "      <td>1</td>\n",
       "      <td>1</td>\n",
       "    </tr>\n",
       "    <tr>\n",
       "      <th>757</th>\n",
       "      <td>keep your old visa gift cards if you want to s...</td>\n",
       "      <td>0</td>\n",
       "      <td>0</td>\n",
       "    </tr>\n",
       "  </tbody>\n",
       "</table>\n",
       "</div>"
      ],
      "text/plain": [
       "                                                  post  target  predictions\n",
       "309  if youre a new alcoholic or in the process of ...       0            0\n",
       "491  buy an online mattress from casper etc return ...       0            0\n",
       "748  no matter if you like the person or not always...       1            1\n",
       "538  never send an email when youre in a heightened...       1            1\n",
       "757  keep your old visa gift cards if you want to s...       0            0"
      ]
     },
     "execution_count": 74,
     "metadata": {},
     "output_type": "execute_result"
    }
   ],
   "source": [
    "predictions_8 = gs_8.predict(X_test)\n",
    "\n",
    "test_pred_8 = pd.DataFrame()\n",
    "test_pred_8[\"post\"] = X_test\n",
    "test_pred_8[\"target\"] = y_test\n",
    "test_pred_8[\"predictions\"] = predictions_8\n",
    "test_pred_8.head()"
   ]
  },
  {
   "cell_type": "code",
   "execution_count": 75,
   "metadata": {},
   "outputs": [
    {
     "data": {
      "text/html": [
       "<div>\n",
       "<style scoped>\n",
       "    .dataframe tbody tr th:only-of-type {\n",
       "        vertical-align: middle;\n",
       "    }\n",
       "\n",
       "    .dataframe tbody tr th {\n",
       "        vertical-align: top;\n",
       "    }\n",
       "\n",
       "    .dataframe thead th {\n",
       "        text-align: right;\n",
       "    }\n",
       "</style>\n",
       "<table border=\"1\" class=\"dataframe\">\n",
       "  <thead>\n",
       "    <tr style=\"text-align: right;\">\n",
       "      <th></th>\n",
       "      <th>Predicted Unethical</th>\n",
       "      <th>Predicted ProTip</th>\n",
       "    </tr>\n",
       "  </thead>\n",
       "  <tbody>\n",
       "    <tr>\n",
       "      <th>Actual Unethical</th>\n",
       "      <td>229</td>\n",
       "      <td>45</td>\n",
       "    </tr>\n",
       "    <tr>\n",
       "      <th>Actual ProTip</th>\n",
       "      <td>84</td>\n",
       "      <td>180</td>\n",
       "    </tr>\n",
       "  </tbody>\n",
       "</table>\n",
       "</div>"
      ],
      "text/plain": [
       "                  Predicted Unethical  Predicted ProTip\n",
       "Actual Unethical                  229                45\n",
       "Actual ProTip                      84               180"
      ]
     },
     "execution_count": 75,
     "metadata": {},
     "output_type": "execute_result"
    }
   ],
   "source": [
    "#Confusion Matrix\n",
    "cm8 = confusion_matrix(test_pred_8[\"target\"], test_pred_8[\"predictions\"])\n",
    "\n",
    "cm8_df = pd.DataFrame(cm8, columns = [\"Predicted Unethical\", \"Predicted ProTip\"], index = [\"Actual Unethical\", \"Actual ProTip\"])\n",
    "cm8_df"
   ]
  },
  {
   "cell_type": "markdown",
   "metadata": {},
   "source": [
    "#### Model 9 - CountVectorizer + AdaBoost"
   ]
  },
  {
   "cell_type": "code",
   "execution_count": 76,
   "metadata": {},
   "outputs": [
    {
     "name": "stdout",
     "output_type": "stream",
     "text": [
      "{'ada__learning_rate': 0.7, 'ada__n_estimators': 120, 'cvect__max_df': 1.0, 'cvect__ngram_range': (1, 1)}\n",
      "CrossValScore 0.7099601593625497\n",
      "Score 0.7397769516728625\n"
     ]
    }
   ],
   "source": [
    "pipe_9 = Pipeline([\n",
    "    (\"cvect\", cvect),\n",
    "    (\"ada\", ada)\n",
    "])\n",
    "\n",
    "params = {\n",
    "    \"cvect__ngram_range\" : [(1,1), (1,2), (2,2)],\n",
    "    \"cvect__max_df\" : [1.0, 0.9, 0.8],\n",
    "    \"ada__learning_rate\" : [0.6 ,0.7, 0.8, 0.9],\n",
    "    \"ada__n_estimators\" : [100, 120, 140, 160]\n",
    "    \n",
    "}\n",
    "\n",
    "gs_9 = GridSearchCV(pipe_9, param_grid=params)\n",
    "gs_9.fit(X_train, y_train)\n",
    "\n",
    "print(gs_9.best_params_)\n",
    "print(\"CrossValScore\", gs_9.best_score_)\n",
    "print(\"Score\", gs_9.score(X_test, y_test))"
   ]
  },
  {
   "cell_type": "code",
   "execution_count": 77,
   "metadata": {},
   "outputs": [
    {
     "data": {
      "text/plain": [
       "array([[0.50122716, 0.49877284],\n",
       "       [0.50479369, 0.49520631],\n",
       "       [0.49722339, 0.50277661],\n",
       "       [0.49493678, 0.50506322],\n",
       "       [0.51580687, 0.48419313]])"
      ]
     },
     "execution_count": 77,
     "metadata": {},
     "output_type": "execute_result"
    }
   ],
   "source": [
    "gs_9.predict_proba(X_test)[:5]"
   ]
  },
  {
   "cell_type": "code",
   "execution_count": 78,
   "metadata": {},
   "outputs": [
    {
     "data": {
      "text/html": [
       "<div>\n",
       "<style scoped>\n",
       "    .dataframe tbody tr th:only-of-type {\n",
       "        vertical-align: middle;\n",
       "    }\n",
       "\n",
       "    .dataframe tbody tr th {\n",
       "        vertical-align: top;\n",
       "    }\n",
       "\n",
       "    .dataframe thead th {\n",
       "        text-align: right;\n",
       "    }\n",
       "</style>\n",
       "<table border=\"1\" class=\"dataframe\">\n",
       "  <thead>\n",
       "    <tr style=\"text-align: right;\">\n",
       "      <th></th>\n",
       "      <th>post</th>\n",
       "      <th>target</th>\n",
       "      <th>predictions</th>\n",
       "    </tr>\n",
       "  </thead>\n",
       "  <tbody>\n",
       "    <tr>\n",
       "      <th>309</th>\n",
       "      <td>if youre a new alcoholic or in the process of ...</td>\n",
       "      <td>0</td>\n",
       "      <td>0</td>\n",
       "    </tr>\n",
       "    <tr>\n",
       "      <th>491</th>\n",
       "      <td>buy an online mattress from casper etc return ...</td>\n",
       "      <td>0</td>\n",
       "      <td>0</td>\n",
       "    </tr>\n",
       "    <tr>\n",
       "      <th>748</th>\n",
       "      <td>no matter if you like the person or not always...</td>\n",
       "      <td>1</td>\n",
       "      <td>1</td>\n",
       "    </tr>\n",
       "    <tr>\n",
       "      <th>538</th>\n",
       "      <td>never send an email when youre in a heightened...</td>\n",
       "      <td>1</td>\n",
       "      <td>1</td>\n",
       "    </tr>\n",
       "    <tr>\n",
       "      <th>757</th>\n",
       "      <td>keep your old visa gift cards if you want to s...</td>\n",
       "      <td>0</td>\n",
       "      <td>0</td>\n",
       "    </tr>\n",
       "  </tbody>\n",
       "</table>\n",
       "</div>"
      ],
      "text/plain": [
       "                                                  post  target  predictions\n",
       "309  if youre a new alcoholic or in the process of ...       0            0\n",
       "491  buy an online mattress from casper etc return ...       0            0\n",
       "748  no matter if you like the person or not always...       1            1\n",
       "538  never send an email when youre in a heightened...       1            1\n",
       "757  keep your old visa gift cards if you want to s...       0            0"
      ]
     },
     "execution_count": 78,
     "metadata": {},
     "output_type": "execute_result"
    }
   ],
   "source": [
    "predictions_9 = gs_9.predict(X_test)\n",
    "\n",
    "test_pred_9 = pd.DataFrame()\n",
    "test_pred_9[\"post\"] = X_test\n",
    "test_pred_9[\"target\"] = y_test\n",
    "test_pred_9[\"predictions\"] = predictions_9\n",
    "test_pred_9.head()"
   ]
  },
  {
   "cell_type": "code",
   "execution_count": 79,
   "metadata": {},
   "outputs": [
    {
     "data": {
      "text/html": [
       "<div>\n",
       "<style scoped>\n",
       "    .dataframe tbody tr th:only-of-type {\n",
       "        vertical-align: middle;\n",
       "    }\n",
       "\n",
       "    .dataframe tbody tr th {\n",
       "        vertical-align: top;\n",
       "    }\n",
       "\n",
       "    .dataframe thead th {\n",
       "        text-align: right;\n",
       "    }\n",
       "</style>\n",
       "<table border=\"1\" class=\"dataframe\">\n",
       "  <thead>\n",
       "    <tr style=\"text-align: right;\">\n",
       "      <th></th>\n",
       "      <th>Predicted Unethical</th>\n",
       "      <th>Predicted ProTip</th>\n",
       "    </tr>\n",
       "  </thead>\n",
       "  <tbody>\n",
       "    <tr>\n",
       "      <th>Actual Unethical</th>\n",
       "      <td>216</td>\n",
       "      <td>58</td>\n",
       "    </tr>\n",
       "    <tr>\n",
       "      <th>Actual ProTip</th>\n",
       "      <td>82</td>\n",
       "      <td>182</td>\n",
       "    </tr>\n",
       "  </tbody>\n",
       "</table>\n",
       "</div>"
      ],
      "text/plain": [
       "                  Predicted Unethical  Predicted ProTip\n",
       "Actual Unethical                  216                58\n",
       "Actual ProTip                      82               182"
      ]
     },
     "execution_count": 79,
     "metadata": {},
     "output_type": "execute_result"
    }
   ],
   "source": [
    "#Confusion Matrix\n",
    "cm9 = confusion_matrix(test_pred_9[\"target\"], test_pred_9[\"predictions\"])\n",
    "\n",
    "cm9_df = pd.DataFrame(cm9, columns = [\"Predicted Unethical\", \"Predicted ProTip\"], index = [\"Actual Unethical\", \"Actual ProTip\"])\n",
    "cm9_df"
   ]
  },
  {
   "cell_type": "markdown",
   "metadata": {},
   "source": [
    "#### Model 10 - TF-IDF Vectorizer + AdaBoost"
   ]
  },
  {
   "cell_type": "code",
   "execution_count": 80,
   "metadata": {},
   "outputs": [
    {
     "name": "stdout",
     "output_type": "stream",
     "text": [
      "{'ada__learning_rate': 0.5, 'ada__n_estimators': 100, 'tvect__max_df': 1.0, 'tvect__ngram_range': (1, 1)}\n",
      "CrossValScore 0.7107569721115538\n",
      "Score 0.7230483271375465\n"
     ]
    }
   ],
   "source": [
    "pipe_10 = Pipeline([\n",
    "    (\"tvect\", tvect),\n",
    "    (\"ada\", ada)\n",
    "])\n",
    "\n",
    "params = {\n",
    "    \"tvect__ngram_range\" : [(1,1), (1,2), (2,2)],\n",
    "    \"tvect__max_df\" : [1.0, 0.9, 0.8],\n",
    "    \"ada__learning_rate\" : [0.5, 0.6 ,0.7, 0.8, 0.9],\n",
    "    \"ada__n_estimators\" : [20, 40, 60, 80, 100]\n",
    "    \n",
    "}\n",
    "\n",
    "gs_10 = GridSearchCV(pipe_10, param_grid=params)\n",
    "gs_10.fit(X_train, y_train)\n",
    "\n",
    "print(gs_10.best_params_)\n",
    "print(\"CrossValScore\", gs_10.best_score_)\n",
    "print(\"Score\", gs_10.score(X_test, y_test))"
   ]
  },
  {
   "cell_type": "code",
   "execution_count": 81,
   "metadata": {},
   "outputs": [
    {
     "data": {
      "text/plain": [
       "array([[0.50118613, 0.49881387],\n",
       "       [0.50441319, 0.49558681],\n",
       "       [0.49348563, 0.50651437],\n",
       "       [0.47905899, 0.52094101],\n",
       "       [0.61859375, 0.38140625]])"
      ]
     },
     "execution_count": 81,
     "metadata": {},
     "output_type": "execute_result"
    }
   ],
   "source": [
    "gs_10.predict_proba(X_test)[:5]"
   ]
  },
  {
   "cell_type": "code",
   "execution_count": 82,
   "metadata": {},
   "outputs": [
    {
     "data": {
      "text/html": [
       "<div>\n",
       "<style scoped>\n",
       "    .dataframe tbody tr th:only-of-type {\n",
       "        vertical-align: middle;\n",
       "    }\n",
       "\n",
       "    .dataframe tbody tr th {\n",
       "        vertical-align: top;\n",
       "    }\n",
       "\n",
       "    .dataframe thead th {\n",
       "        text-align: right;\n",
       "    }\n",
       "</style>\n",
       "<table border=\"1\" class=\"dataframe\">\n",
       "  <thead>\n",
       "    <tr style=\"text-align: right;\">\n",
       "      <th></th>\n",
       "      <th>post</th>\n",
       "      <th>target</th>\n",
       "      <th>predictions</th>\n",
       "    </tr>\n",
       "  </thead>\n",
       "  <tbody>\n",
       "    <tr>\n",
       "      <th>309</th>\n",
       "      <td>if youre a new alcoholic or in the process of ...</td>\n",
       "      <td>0</td>\n",
       "      <td>0</td>\n",
       "    </tr>\n",
       "    <tr>\n",
       "      <th>491</th>\n",
       "      <td>buy an online mattress from casper etc return ...</td>\n",
       "      <td>0</td>\n",
       "      <td>0</td>\n",
       "    </tr>\n",
       "    <tr>\n",
       "      <th>748</th>\n",
       "      <td>no matter if you like the person or not always...</td>\n",
       "      <td>1</td>\n",
       "      <td>1</td>\n",
       "    </tr>\n",
       "    <tr>\n",
       "      <th>538</th>\n",
       "      <td>never send an email when youre in a heightened...</td>\n",
       "      <td>1</td>\n",
       "      <td>1</td>\n",
       "    </tr>\n",
       "    <tr>\n",
       "      <th>757</th>\n",
       "      <td>keep your old visa gift cards if you want to s...</td>\n",
       "      <td>0</td>\n",
       "      <td>0</td>\n",
       "    </tr>\n",
       "  </tbody>\n",
       "</table>\n",
       "</div>"
      ],
      "text/plain": [
       "                                                  post  target  predictions\n",
       "309  if youre a new alcoholic or in the process of ...       0            0\n",
       "491  buy an online mattress from casper etc return ...       0            0\n",
       "748  no matter if you like the person or not always...       1            1\n",
       "538  never send an email when youre in a heightened...       1            1\n",
       "757  keep your old visa gift cards if you want to s...       0            0"
      ]
     },
     "execution_count": 82,
     "metadata": {},
     "output_type": "execute_result"
    }
   ],
   "source": [
    "predictions_10 = gs_10.predict(X_test)\n",
    "\n",
    "test_pred_10 = pd.DataFrame()\n",
    "test_pred_10[\"post\"] = X_test\n",
    "test_pred_10[\"target\"] = y_test\n",
    "test_pred_10[\"predictions\"] = predictions_10\n",
    "test_pred_10.head()"
   ]
  },
  {
   "cell_type": "code",
   "execution_count": 83,
   "metadata": {},
   "outputs": [
    {
     "data": {
      "text/html": [
       "<div>\n",
       "<style scoped>\n",
       "    .dataframe tbody tr th:only-of-type {\n",
       "        vertical-align: middle;\n",
       "    }\n",
       "\n",
       "    .dataframe tbody tr th {\n",
       "        vertical-align: top;\n",
       "    }\n",
       "\n",
       "    .dataframe thead th {\n",
       "        text-align: right;\n",
       "    }\n",
       "</style>\n",
       "<table border=\"1\" class=\"dataframe\">\n",
       "  <thead>\n",
       "    <tr style=\"text-align: right;\">\n",
       "      <th></th>\n",
       "      <th>Predicted Unethical</th>\n",
       "      <th>Predicted ProTip</th>\n",
       "    </tr>\n",
       "  </thead>\n",
       "  <tbody>\n",
       "    <tr>\n",
       "      <th>Actual Unethical</th>\n",
       "      <td>215</td>\n",
       "      <td>59</td>\n",
       "    </tr>\n",
       "    <tr>\n",
       "      <th>Actual ProTip</th>\n",
       "      <td>90</td>\n",
       "      <td>174</td>\n",
       "    </tr>\n",
       "  </tbody>\n",
       "</table>\n",
       "</div>"
      ],
      "text/plain": [
       "                  Predicted Unethical  Predicted ProTip\n",
       "Actual Unethical                  215                59\n",
       "Actual ProTip                      90               174"
      ]
     },
     "execution_count": 83,
     "metadata": {},
     "output_type": "execute_result"
    }
   ],
   "source": [
    "#Confusion Matrix\n",
    "cm10 = confusion_matrix(test_pred_10[\"target\"], test_pred_10[\"predictions\"])\n",
    "\n",
    "cm10_df = pd.DataFrame(cm10, columns = [\"Predicted Unethical\", \"Predicted ProTip\"], index = [\"Actual Unethical\", \"Actual ProTip\"])\n",
    "cm10_df"
   ]
  },
  {
   "cell_type": "markdown",
   "metadata": {},
   "source": [
    "#### Voting Classifier - Aggregating all models"
   ]
  },
  {
   "cell_type": "code",
   "execution_count": 84,
   "metadata": {},
   "outputs": [
    {
     "data": {
      "text/plain": [
       "VotingClassifier(estimators=[('gs_1', GridSearchCV(cv=None, error_score='raise',\n",
       "       estimator=Pipeline(memory=None,\n",
       "     steps=[('cvect', CountVectorizer(analyzer='word', binary=False, decode_error='strict',\n",
       "        dtype=<class 'numpy.int64'>, encoding='utf-8', input='content',\n",
       "        lowercase=True, max_df=1....   pre_dispatch='2*n_jobs', refit=True, return_train_score='warn',\n",
       "       scoring=None, verbose=0))],\n",
       "         flatten_transform=None, n_jobs=1, voting='hard', weights=None)"
      ]
     },
     "execution_count": 84,
     "metadata": {},
     "output_type": "execute_result"
    }
   ],
   "source": [
    "vote = VotingClassifier([\n",
    "    (\"gs_1\", gs_1),\n",
    "    (\"gs_2\", gs_2),\n",
    "    (\"gs_3\", gs_3),\n",
    "    (\"gs_4\", gs_4),\n",
    "    (\"gs_5\", gs_5),\n",
    "    (\"gs_6\", gs_6),\n",
    "    (\"gs_7\", gs_7),\n",
    "    (\"gs_8\", gs_8),\n",
    "    (\"gs_9\", gs_9),\n",
    "    (\"gs_10\", gs_10)\n",
    "])\n",
    "\n",
    "vote.fit(X_train, y_train)\n"
   ]
  },
  {
   "cell_type": "code",
   "execution_count": 85,
   "metadata": {},
   "outputs": [
    {
     "name": "stderr",
     "output_type": "stream",
     "text": [
      "/Users/mikethisyamondol/anaconda3/lib/python3.6/site-packages/sklearn/preprocessing/label.py:151: DeprecationWarning: The truth value of an empty array is ambiguous. Returning False, but in future this will result in an error. Use `array.size > 0` to check that an array is not empty.\n",
      "  if diff:\n"
     ]
    },
    {
     "data": {
      "text/plain": [
       "0.9976095617529881"
      ]
     },
     "execution_count": 85,
     "metadata": {},
     "output_type": "execute_result"
    }
   ],
   "source": [
    "vote.score(X_train, y_train)"
   ]
  },
  {
   "cell_type": "code",
   "execution_count": 86,
   "metadata": {},
   "outputs": [
    {
     "name": "stderr",
     "output_type": "stream",
     "text": [
      "/Users/mikethisyamondol/anaconda3/lib/python3.6/site-packages/sklearn/preprocessing/label.py:151: DeprecationWarning: The truth value of an empty array is ambiguous. Returning False, but in future this will result in an error. Use `array.size > 0` to check that an array is not empty.\n",
      "  if diff:\n"
     ]
    },
    {
     "data": {
      "text/plain": [
       "0.775092936802974"
      ]
     },
     "execution_count": 86,
     "metadata": {},
     "output_type": "execute_result"
    }
   ],
   "source": [
    "vote.score(X_test, y_test)"
   ]
  },
  {
   "cell_type": "code",
   "execution_count": 87,
   "metadata": {},
   "outputs": [
    {
     "name": "stderr",
     "output_type": "stream",
     "text": [
      "/Users/mikethisyamondol/anaconda3/lib/python3.6/site-packages/sklearn/preprocessing/label.py:151: DeprecationWarning: The truth value of an empty array is ambiguous. Returning False, but in future this will result in an error. Use `array.size > 0` to check that an array is not empty.\n",
      "  if diff:\n"
     ]
    },
    {
     "data": {
      "text/html": [
       "<div>\n",
       "<style scoped>\n",
       "    .dataframe tbody tr th:only-of-type {\n",
       "        vertical-align: middle;\n",
       "    }\n",
       "\n",
       "    .dataframe tbody tr th {\n",
       "        vertical-align: top;\n",
       "    }\n",
       "\n",
       "    .dataframe thead th {\n",
       "        text-align: right;\n",
       "    }\n",
       "</style>\n",
       "<table border=\"1\" class=\"dataframe\">\n",
       "  <thead>\n",
       "    <tr style=\"text-align: right;\">\n",
       "      <th></th>\n",
       "      <th>post</th>\n",
       "      <th>target</th>\n",
       "      <th>predictions</th>\n",
       "    </tr>\n",
       "  </thead>\n",
       "  <tbody>\n",
       "    <tr>\n",
       "      <th>309</th>\n",
       "      <td>if youre a new alcoholic or in the process of ...</td>\n",
       "      <td>0</td>\n",
       "      <td>0</td>\n",
       "    </tr>\n",
       "    <tr>\n",
       "      <th>491</th>\n",
       "      <td>buy an online mattress from casper etc return ...</td>\n",
       "      <td>0</td>\n",
       "      <td>0</td>\n",
       "    </tr>\n",
       "    <tr>\n",
       "      <th>748</th>\n",
       "      <td>no matter if you like the person or not always...</td>\n",
       "      <td>1</td>\n",
       "      <td>1</td>\n",
       "    </tr>\n",
       "    <tr>\n",
       "      <th>538</th>\n",
       "      <td>never send an email when youre in a heightened...</td>\n",
       "      <td>1</td>\n",
       "      <td>1</td>\n",
       "    </tr>\n",
       "    <tr>\n",
       "      <th>757</th>\n",
       "      <td>keep your old visa gift cards if you want to s...</td>\n",
       "      <td>0</td>\n",
       "      <td>0</td>\n",
       "    </tr>\n",
       "  </tbody>\n",
       "</table>\n",
       "</div>"
      ],
      "text/plain": [
       "                                                  post  target  predictions\n",
       "309  if youre a new alcoholic or in the process of ...       0            0\n",
       "491  buy an online mattress from casper etc return ...       0            0\n",
       "748  no matter if you like the person or not always...       1            1\n",
       "538  never send an email when youre in a heightened...       1            1\n",
       "757  keep your old visa gift cards if you want to s...       0            0"
      ]
     },
     "execution_count": 87,
     "metadata": {},
     "output_type": "execute_result"
    }
   ],
   "source": [
    "predictions_11 = vote.predict(X_test)\n",
    "\n",
    "test_pred_11 = pd.DataFrame()\n",
    "test_pred_11[\"post\"] = X_test\n",
    "test_pred_11[\"target\"] = y_test\n",
    "test_pred_11[\"predictions\"] = predictions_11\n",
    "test_pred_11.head()"
   ]
  },
  {
   "cell_type": "code",
   "execution_count": 88,
   "metadata": {},
   "outputs": [],
   "source": [
    "test_pred_11.to_csv(\"./data/predictions\")"
   ]
  },
  {
   "cell_type": "code",
   "execution_count": 89,
   "metadata": {},
   "outputs": [
    {
     "data": {
      "text/html": [
       "<div>\n",
       "<style scoped>\n",
       "    .dataframe tbody tr th:only-of-type {\n",
       "        vertical-align: middle;\n",
       "    }\n",
       "\n",
       "    .dataframe tbody tr th {\n",
       "        vertical-align: top;\n",
       "    }\n",
       "\n",
       "    .dataframe thead th {\n",
       "        text-align: right;\n",
       "    }\n",
       "</style>\n",
       "<table border=\"1\" class=\"dataframe\">\n",
       "  <thead>\n",
       "    <tr style=\"text-align: right;\">\n",
       "      <th></th>\n",
       "      <th>Predicted Unethical</th>\n",
       "      <th>Predicted ProTip</th>\n",
       "    </tr>\n",
       "  </thead>\n",
       "  <tbody>\n",
       "    <tr>\n",
       "      <th>Actual Unethical</th>\n",
       "      <td>231</td>\n",
       "      <td>43</td>\n",
       "    </tr>\n",
       "    <tr>\n",
       "      <th>Actual ProTip</th>\n",
       "      <td>78</td>\n",
       "      <td>186</td>\n",
       "    </tr>\n",
       "  </tbody>\n",
       "</table>\n",
       "</div>"
      ],
      "text/plain": [
       "                  Predicted Unethical  Predicted ProTip\n",
       "Actual Unethical                  231                43\n",
       "Actual ProTip                      78               186"
      ]
     },
     "execution_count": 89,
     "metadata": {},
     "output_type": "execute_result"
    }
   ],
   "source": [
    "#Confusion Matrix\n",
    "cm11 = confusion_matrix(test_pred_11[\"target\"], test_pred_11[\"predictions\"])\n",
    "\n",
    "cm11_df = pd.DataFrame(cm11, columns = [\"Predicted Unethical\", \"Predicted ProTip\"], index = [\"Actual Unethical\", \"Actual ProTip\"])\n",
    "cm11_df"
   ]
  },
  {
   "cell_type": "markdown",
   "metadata": {},
   "source": [
    "##### Model Scores"
   ]
  },
  {
   "cell_type": "code",
   "execution_count": 90,
   "metadata": {},
   "outputs": [],
   "source": [
    "#For loop to calculate Accuracy and Specificity scores\n",
    "cms = [cm1_df, cm2_df, cm3_df, cm4_df, cm5_df, cm6_df, cm7_df, cm8_df, cm9_df, cm10_df, cm11_df]\n",
    "scores = []\n",
    "for cm in cms:\n",
    "    temp_dict = {}\n",
    "    temp_dict[\"Accuracy\"] = (cm.iloc[0,0] + cm.iloc[1,1])/(cm.iloc[0,0] + cm.iloc[0,1] + cm.iloc[1,0] + cm.iloc[1,1])\n",
    "    temp_dict[\"Specificity\"] = (cm.iloc[0,0])/(cm.iloc[0,0] + cm.iloc[0,1])\n",
    "    scores.append(temp_dict)"
   ]
  },
  {
   "cell_type": "code",
   "execution_count": 91,
   "metadata": {},
   "outputs": [
    {
     "data": {
      "text/html": [
       "<div>\n",
       "<style scoped>\n",
       "    .dataframe tbody tr th:only-of-type {\n",
       "        vertical-align: middle;\n",
       "    }\n",
       "\n",
       "    .dataframe tbody tr th {\n",
       "        vertical-align: top;\n",
       "    }\n",
       "\n",
       "    .dataframe thead th {\n",
       "        text-align: right;\n",
       "    }\n",
       "</style>\n",
       "<table border=\"1\" class=\"dataframe\">\n",
       "  <thead>\n",
       "    <tr style=\"text-align: right;\">\n",
       "      <th></th>\n",
       "      <th>Accuracy</th>\n",
       "      <th>Specificity</th>\n",
       "    </tr>\n",
       "  </thead>\n",
       "  <tbody>\n",
       "    <tr>\n",
       "      <th>CV_MultinomialNB</th>\n",
       "      <td>0.745353</td>\n",
       "      <td>0.656934</td>\n",
       "    </tr>\n",
       "    <tr>\n",
       "      <th>TFIDF_MultinomialNB</th>\n",
       "      <td>0.763941</td>\n",
       "      <td>0.715328</td>\n",
       "    </tr>\n",
       "    <tr>\n",
       "      <th>CV_LogisticRegression</th>\n",
       "      <td>0.750929</td>\n",
       "      <td>0.788321</td>\n",
       "    </tr>\n",
       "    <tr>\n",
       "      <th>TFIDF_LogisticRegression</th>\n",
       "      <td>0.769517</td>\n",
       "      <td>0.737226</td>\n",
       "    </tr>\n",
       "    <tr>\n",
       "      <th>CV_RandomForest</th>\n",
       "      <td>0.750929</td>\n",
       "      <td>0.788321</td>\n",
       "    </tr>\n",
       "    <tr>\n",
       "      <th>TFIDF_RandomForest</th>\n",
       "      <td>0.752788</td>\n",
       "      <td>0.854015</td>\n",
       "    </tr>\n",
       "    <tr>\n",
       "      <th>CV_ExtraTrees</th>\n",
       "      <td>0.760223</td>\n",
       "      <td>0.828467</td>\n",
       "    </tr>\n",
       "    <tr>\n",
       "      <th>TFIDF_ExtraTrees</th>\n",
       "      <td>0.760223</td>\n",
       "      <td>0.835766</td>\n",
       "    </tr>\n",
       "    <tr>\n",
       "      <th>CV_AdaBoost</th>\n",
       "      <td>0.739777</td>\n",
       "      <td>0.788321</td>\n",
       "    </tr>\n",
       "    <tr>\n",
       "      <th>TFIDF_AdaBoost</th>\n",
       "      <td>0.723048</td>\n",
       "      <td>0.784672</td>\n",
       "    </tr>\n",
       "    <tr>\n",
       "      <th>Voting</th>\n",
       "      <td>0.775093</td>\n",
       "      <td>0.843066</td>\n",
       "    </tr>\n",
       "  </tbody>\n",
       "</table>\n",
       "</div>"
      ],
      "text/plain": [
       "                          Accuracy  Specificity\n",
       "CV_MultinomialNB          0.745353     0.656934\n",
       "TFIDF_MultinomialNB       0.763941     0.715328\n",
       "CV_LogisticRegression     0.750929     0.788321\n",
       "TFIDF_LogisticRegression  0.769517     0.737226\n",
       "CV_RandomForest           0.750929     0.788321\n",
       "TFIDF_RandomForest        0.752788     0.854015\n",
       "CV_ExtraTrees             0.760223     0.828467\n",
       "TFIDF_ExtraTrees          0.760223     0.835766\n",
       "CV_AdaBoost               0.739777     0.788321\n",
       "TFIDF_AdaBoost            0.723048     0.784672\n",
       "Voting                    0.775093     0.843066"
      ]
     },
     "execution_count": 91,
     "metadata": {},
     "output_type": "execute_result"
    }
   ],
   "source": [
    "model_scores = pd.DataFrame(scores, columns = [\"Accuracy\", \"Specificity\"], index = [\n",
    "    \"CV_MultinomialNB\", \"TFIDF_MultinomialNB\", \"CV_LogisticRegression\", \"TFIDF_LogisticRegression\", \"CV_RandomForest\",\n",
    "    \"TFIDF_RandomForest\", \"CV_ExtraTrees\", \"TFIDF_ExtraTrees\", \"CV_AdaBoost\", \"TFIDF_AdaBoost\", \"Voting\"\n",
    "])\n",
    "model_scores"
   ]
  },
  {
   "cell_type": "markdown",
   "metadata": {},
   "source": [
    "# Misc"
   ]
  },
  {
   "cell_type": "code",
   "execution_count": 92,
   "metadata": {},
   "outputs": [],
   "source": [
    "coef_df_1 = coefs_df_1.sort_values(\"abs_values\", ascending = False).head(10)"
   ]
  },
  {
   "cell_type": "code",
   "execution_count": 93,
   "metadata": {},
   "outputs": [
    {
     "data": {
      "text/html": [
       "<div>\n",
       "<style scoped>\n",
       "    .dataframe tbody tr th:only-of-type {\n",
       "        vertical-align: middle;\n",
       "    }\n",
       "\n",
       "    .dataframe tbody tr th {\n",
       "        vertical-align: top;\n",
       "    }\n",
       "\n",
       "    .dataframe thead th {\n",
       "        text-align: right;\n",
       "    }\n",
       "</style>\n",
       "<table border=\"1\" class=\"dataframe\">\n",
       "  <thead>\n",
       "    <tr style=\"text-align: right;\">\n",
       "      <th></th>\n",
       "      <th>word</th>\n",
       "      <th>coef_values</th>\n",
       "      <th>abs_values</th>\n",
       "    </tr>\n",
       "  </thead>\n",
       "  <tbody>\n",
       "    <tr>\n",
       "      <th>12079</th>\n",
       "      <td>edit</td>\n",
       "      <td>5.689084</td>\n",
       "      <td>5.689084</td>\n",
       "    </tr>\n",
       "    <tr>\n",
       "      <th>43700</th>\n",
       "      <td>want</td>\n",
       "      <td>-3.863857</td>\n",
       "      <td>3.863857</td>\n",
       "    </tr>\n",
       "    <tr>\n",
       "      <th>39329</th>\n",
       "      <td>tell</td>\n",
       "      <td>-3.187681</td>\n",
       "      <td>3.187681</td>\n",
       "    </tr>\n",
       "    <tr>\n",
       "      <th>21285</th>\n",
       "      <td>know</td>\n",
       "      <td>3.026860</td>\n",
       "      <td>3.026860</td>\n",
       "    </tr>\n",
       "    <tr>\n",
       "      <th>5117</th>\n",
       "      <td>buy</td>\n",
       "      <td>-2.985893</td>\n",
       "      <td>2.985893</td>\n",
       "    </tr>\n",
       "    <tr>\n",
       "      <th>39661</th>\n",
       "      <td>thank</td>\n",
       "      <td>2.694025</td>\n",
       "      <td>2.694025</td>\n",
       "    </tr>\n",
       "    <tr>\n",
       "      <th>15132</th>\n",
       "      <td>free</td>\n",
       "      <td>-2.641585</td>\n",
       "      <td>2.641585</td>\n",
       "    </tr>\n",
       "    <tr>\n",
       "      <th>11196</th>\n",
       "      <td>dont</td>\n",
       "      <td>2.516949</td>\n",
       "      <td>2.516949</td>\n",
       "    </tr>\n",
       "    <tr>\n",
       "      <th>39919</th>\n",
       "      <td>theyll</td>\n",
       "      <td>-2.326486</td>\n",
       "      <td>2.326486</td>\n",
       "    </tr>\n",
       "    <tr>\n",
       "      <th>44063</th>\n",
       "      <td>water</td>\n",
       "      <td>2.228529</td>\n",
       "      <td>2.228529</td>\n",
       "    </tr>\n",
       "  </tbody>\n",
       "</table>\n",
       "</div>"
      ],
      "text/plain": [
       "         word  coef_values  abs_values\n",
       "12079    edit     5.689084    5.689084\n",
       "43700    want    -3.863857    3.863857\n",
       "39329    tell    -3.187681    3.187681\n",
       "21285    know     3.026860    3.026860\n",
       "5117      buy    -2.985893    2.985893\n",
       "39661   thank     2.694025    2.694025\n",
       "15132    free    -2.641585    2.641585\n",
       "11196    dont     2.516949    2.516949\n",
       "39919  theyll    -2.326486    2.326486\n",
       "44063   water     2.228529    2.228529"
      ]
     },
     "execution_count": 93,
     "metadata": {},
     "output_type": "execute_result"
    }
   ],
   "source": [
    "coef_df_1"
   ]
  },
  {
   "cell_type": "code",
   "execution_count": 94,
   "metadata": {},
   "outputs": [],
   "source": [
    "coef_df_1.set_index(\"word\", inplace = True)"
   ]
  },
  {
   "cell_type": "code",
   "execution_count": 95,
   "metadata": {},
   "outputs": [
    {
     "data": {
      "text/plain": [
       "<matplotlib.axes._subplots.AxesSubplot at 0x1a18b510b8>"
      ]
     },
     "execution_count": 95,
     "metadata": {},
     "output_type": "execute_result"
    },
    {
     "data": {
      "image/png": "[encoded data removed]",
      "text/plain": [
       "<Figure size 720x432 with 1 Axes>"
      ]
     },
     "metadata": {},
     "output_type": "display_data"
    }
   ],
   "source": [
    "plt.style.use('fivethirtyeight')\n",
    "coef_df_1.drop(\"abs_values\", axis = 1).plot(kind = \"barh\", legend = None, figsize = (10,6), \n",
    "                                            title = \"Top Predictors\", fontsize = 14,\n",
    "                                           )"
   ]
  },
  {
   "cell_type": "code",
   "execution_count": null,
   "metadata": {},
   "outputs": [],
   "source": []
  },
  {
   "cell_type": "markdown",
   "metadata": {},
   "source": [
    "| Model                           | Accuracy Score |\n",
    "|---------------------------------|----------------|\n",
    "| CV MultinomialNB                | 0.75           |\n",
    "| TF-IDF MultinomialNB            | 0.76           |\n",
    "| CV Logistic Regression          | 0.75           |\n",
    "| TF-IDF Logistic Regression      | 0.77           |\n",
    "| CV Random Forest Classifier     | 0.75           |\n",
    "| TF-IDF Random Forest Classifier | 0.76           |\n",
    "| CV Extra Trees Classifier       | 0.73           |\n",
    "| TF-IDF Extra Trees Classifier   | 0.76           |\n",
    "| CV AdaBoost Classifier          | 0.72           |\n",
    "| TF-IDF AdaBoost Classifier      | 0.69           |\n",
    "| Voting Classifier               | 0.77           |"
   ]
  },
  {
   "cell_type": "markdown",
   "metadata": {},
   "source": [
    "\n",
    "| Model                           | Accuracy Score | Specificity Score |\n",
    "|---------------------------------|----------------|-------------------|\n",
    "| CV MultinomialNB                | 0.75           | 0.70              |\n",
    "| TF-IDF MultinomialNB            | 0.76           | 0.71              |\n",
    "| CV Logistic Regression          | 0.75           | 0.86              |\n",
    "| TF-IDF Logistic Regression      | 0.77           | 0.80              |\n",
    "| CV Random Forest Classifier     | 0.75           | 0.86              |\n",
    "| TF-IDF Random Forest Classifier | 0.76           | 0.88              |\n",
    "| CV Extra Trees Classifier       | 0.73           | 0.82              |\n",
    "| TF-IDF Extra Trees Classifier   | 0.76           | 0.85              |\n",
    "| CV AdaBoost Classifier          | 0.72           | 0.76              |\n",
    "| TF-IDF AdaBoost Classifier      | 0.69           | 0.77              |\n",
    "| Voting Classifier               | 0.77           | 0.88              |"
   ]
  },
  {
   "cell_type": "code",
   "execution_count": 96,
   "metadata": {},
   "outputs": [
    {
     "name": "stdout",
     "output_type": "stream",
     "text": [
      "{'rf__max_depth': None, 'rf__n_estimators': 80, 'tvect__max_df': 0.7, 'tvect__ngram_range': (1, 1)}\n"
     ]
    }
   ],
   "source": [
    "print(gs_6.best_params_)"
   ]
  },
  {
   "cell_type": "code",
   "execution_count": 97,
   "metadata": {},
   "outputs": [],
   "source": [
    "rf_1 = RandomForestClassifier(n_estimators=80)\n",
    "tfidf = TfidfVectorizer(max_df=0.7, ngram_range=(1,1), stop_words=\"english\")"
   ]
  },
  {
   "cell_type": "code",
   "execution_count": 98,
   "metadata": {},
   "outputs": [],
   "source": [
    "tvect_fi = tfidf.fit_transform(X_train)\n",
    "tvect_fi_test = tfidf.transform(X_test)"
   ]
  },
  {
   "cell_type": "code",
   "execution_count": 99,
   "metadata": {},
   "outputs": [
    {
     "data": {
      "text/plain": [
       "RandomForestClassifier(bootstrap=True, class_weight=None, criterion='gini',\n",
       "            max_depth=None, max_features='auto', max_leaf_nodes=None,\n",
       "            min_impurity_decrease=0.0, min_impurity_split=None,\n",
       "            min_samples_leaf=1, min_samples_split=2,\n",
       "            min_weight_fraction_leaf=0.0, n_estimators=80, n_jobs=1,\n",
       "            oob_score=False, random_state=None, verbose=0,\n",
       "            warm_start=False)"
      ]
     },
     "execution_count": 99,
     "metadata": {},
     "output_type": "execute_result"
    }
   ],
   "source": [
    "rf_1.fit(tvect_fi, y_train)"
   ]
  },
  {
   "cell_type": "code",
   "execution_count": 100,
   "metadata": {},
   "outputs": [
    {
     "data": {
      "text/plain": [
       "0.7565055762081785"
      ]
     },
     "execution_count": 100,
     "metadata": {},
     "output_type": "execute_result"
    }
   ],
   "source": [
    "rf_1.score(tvect_fi_test, y_test)"
   ]
  },
  {
   "cell_type": "code",
   "execution_count": 101,
   "metadata": {},
   "outputs": [
    {
     "data": {
      "text/plain": [
       "array([3.80468589e-05, 1.26513637e-06, 4.42910246e-07, ...,\n",
       "       3.67127819e-05, 3.59414855e-05, 1.55631325e-04])"
      ]
     },
     "execution_count": 101,
     "metadata": {},
     "output_type": "execute_result"
    }
   ],
   "source": [
    "rf_1.feature_importances_"
   ]
  },
  {
   "cell_type": "code",
   "execution_count": 102,
   "metadata": {},
   "outputs": [],
   "source": [
    "feature_importance = pd.DataFrame({'word': tfidf.get_feature_names(), 'feature_importances': rf_1.feature_importances_})\n",
    "\n",
    "df_fi = feature_importance.sort_values(\"feature_importances\", ascending = False).head(10)"
   ]
  },
  {
   "cell_type": "code",
   "execution_count": 103,
   "metadata": {},
   "outputs": [
    {
     "data": {
      "text/html": [
       "<div>\n",
       "<style scoped>\n",
       "    .dataframe tbody tr th:only-of-type {\n",
       "        vertical-align: middle;\n",
       "    }\n",
       "\n",
       "    .dataframe tbody tr th {\n",
       "        vertical-align: top;\n",
       "    }\n",
       "\n",
       "    .dataframe thead th {\n",
       "        text-align: right;\n",
       "    }\n",
       "</style>\n",
       "<table border=\"1\" class=\"dataframe\">\n",
       "  <thead>\n",
       "    <tr style=\"text-align: right;\">\n",
       "      <th></th>\n",
       "      <th>word</th>\n",
       "      <th>feature_importances</th>\n",
       "    </tr>\n",
       "  </thead>\n",
       "  <tbody>\n",
       "    <tr>\n",
       "      <th>2514</th>\n",
       "      <td>edit</td>\n",
       "      <td>0.025313</td>\n",
       "    </tr>\n",
       "    <tr>\n",
       "      <th>8408</th>\n",
       "      <td>want</td>\n",
       "      <td>0.014100</td>\n",
       "    </tr>\n",
       "    <tr>\n",
       "      <th>7645</th>\n",
       "      <td>tell</td>\n",
       "      <td>0.008538</td>\n",
       "    </tr>\n",
       "    <tr>\n",
       "      <th>2364</th>\n",
       "      <td>dont</td>\n",
       "      <td>0.008093</td>\n",
       "    </tr>\n",
       "    <tr>\n",
       "      <th>4285</th>\n",
       "      <td>know</td>\n",
       "      <td>0.007628</td>\n",
       "    </tr>\n",
       "    <tr>\n",
       "      <th>7691</th>\n",
       "      <td>thank</td>\n",
       "      <td>0.007246</td>\n",
       "    </tr>\n",
       "    <tr>\n",
       "      <th>3154</th>\n",
       "      <td>free</td>\n",
       "      <td>0.006145</td>\n",
       "    </tr>\n",
       "    <tr>\n",
       "      <th>8232</th>\n",
       "      <td>use</td>\n",
       "      <td>0.006061</td>\n",
       "    </tr>\n",
       "    <tr>\n",
       "      <th>1144</th>\n",
       "      <td>buy</td>\n",
       "      <td>0.005884</td>\n",
       "    </tr>\n",
       "    <tr>\n",
       "      <th>4222</th>\n",
       "      <td>just</td>\n",
       "      <td>0.005449</td>\n",
       "    </tr>\n",
       "  </tbody>\n",
       "</table>\n",
       "</div>"
      ],
      "text/plain": [
       "       word  feature_importances\n",
       "2514   edit             0.025313\n",
       "8408   want             0.014100\n",
       "7645   tell             0.008538\n",
       "2364   dont             0.008093\n",
       "4285   know             0.007628\n",
       "7691  thank             0.007246\n",
       "3154   free             0.006145\n",
       "8232    use             0.006061\n",
       "1144    buy             0.005884\n",
       "4222   just             0.005449"
      ]
     },
     "execution_count": 103,
     "metadata": {},
     "output_type": "execute_result"
    }
   ],
   "source": [
    "df_fi"
   ]
  },
  {
   "cell_type": "code",
   "execution_count": 104,
   "metadata": {},
   "outputs": [
    {
     "data": {
      "text/plain": [
       "<matplotlib.axes._subplots.AxesSubplot at 0x1a3b0c6da0>"
      ]
     },
     "execution_count": 104,
     "metadata": {},
     "output_type": "execute_result"
    },
    {
     "data": {
      "image/png": "[encoded data removed]",
      "text/plain": [
       "<Figure size 720x432 with 1 Axes>"
      ]
     },
     "metadata": {},
     "output_type": "display_data"
    }
   ],
   "source": [
    "plt.style.use('fivethirtyeight')\n",
    "df_fi.plot(kind=\"barh\", x=\"word\",legend=False, figsize=(10,6))\n"
   ]
  },
  {
   "cell_type": "code",
   "execution_count": null,
   "metadata": {},
   "outputs": [],
   "source": []
  }
 ],
 "metadata": {
  "kernelspec": {
   "display_name": "Python 3",
   "language": "python",
   "name": "python3"
  },
  "language_info": {
   "codemirror_mode": {
    "name": "ipython",
    "version": 3
   },
   "file_extension": ".py",
   "mimetype": "text/x-python",
   "name": "python",
   "nbconvert_exporter": "python",
   "pygments_lexer": "ipython3",
   "version": "3.6.5"
  }
 },
 "nbformat": 4,
 "nbformat_minor": 2
}
